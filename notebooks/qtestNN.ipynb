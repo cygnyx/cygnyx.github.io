{
 "cells": [
  {
   "cell_type": "markdown",
   "metadata": {},
   "source": [
    "# qtestNN\n",
    "\n",
    "`qtest` is part of a Delaunay Triangulation algorithm.\n",
    "This notebook explores how a neural network can be used to emulate its functionality.\n",
    "The approach is to use `qtest` to build training and testing datasets.\n",
    "Then additional intermediate values can be included in the NN to observe the improvement in accuracy.\n",
    "\n",
    "I found that the circumcircle center cannot be determined by the net,\n",
    "but all other intermediate values can be modeled by it."
   ]
  },
  {
   "cell_type": "markdown",
   "metadata": {},
   "source": [
    "## Preliminaries\n",
    "\n",
    "Import the main packages.\n",
    "Control tensorflow logging."
   ]
  },
  {
   "cell_type": "code",
   "execution_count": 1,
   "metadata": {},
   "outputs": [
    {
     "name": "stdout",
     "output_type": "stream",
     "text": [
      "tf version: 1.7.0\n"
     ]
    }
   ],
   "source": [
    "import tensorflow as tf\n",
    "import numpy as np\n",
    "print('tf version: {}'.format(tf.VERSION))"
   ]
  },
  {
   "cell_type": "code",
   "execution_count": 2,
   "metadata": {},
   "outputs": [],
   "source": [
    "from random import random\n",
    "from time import time\n",
    "from shutil import rmtree"
   ]
  },
  {
   "cell_type": "markdown",
   "metadata": {},
   "source": [
    "## qtest\n",
    "\n",
    "`qtest` in `pointset` operates on vertices.\n",
    "This implementation operates on 4 points: the first three define the circumcircle,\n",
    "the fourth is tested for inclusion in the circumcircle.\n",
    "I've also broken down the steps into individual functions\n",
    "so that meaningful intermediate values can be reproduced."
   ]
  },
  {
   "cell_type": "code",
   "execution_count": 3,
   "metadata": {},
   "outputs": [],
   "source": [
    "def dxdy(ix, iy, hx, hy):\n",
    "    \"\"\"The difference between two vectors\"\"\"\n",
    "    return ix - hx, iy - hy\n",
    "\n",
    "def norm(bx, by, cx, cy):\n",
    "    \"\"\"The norm used in calculating the circumcircle center\"\"\"\n",
    "    return 2 * ( bx * cy - by * cx )\n",
    "\n",
    "def circlexy(bx, by, cx, cy, d):\n",
    "    \"\"\"Return the circumcircle of the vectors and the origin\"\"\"\n",
    "    ux = ( cy * (bx * bx + by * by) - by * (cx * cx + cy * cy) )\n",
    "    uy = ( bx * (cx * cx + cy * cy) - cx * (bx * bx + by * by) )\n",
    "    ux = ux / d\n",
    "    uy = uy / d\n",
    "    return ux, uy\n",
    "\n",
    "def dist(x, y):\n",
    "    \"\"\"Return the distance between a point and the origin\"\"\"\n",
    "    return int( (x * x + y * y)**0.5 * 100000) / 100000\n",
    "\n",
    "def qtestxy(hx, hy, ix, iy, jx, jy, kx, ky):\n",
    "    \"\"\"Given 3 points, return True if the 4th point is not inside their circumcircle\"\"\"\n",
    "\n",
    "    bx, by = dxdy(ix, iy, hx, hy)\n",
    "    cx, cy = dxdy(jx, jy, hx, hy)\n",
    "                                                                                                       \n",
    "    n = norm(bx, by, cx, cy)\n",
    "\n",
    "    ux, uy = circlexy(bx,  by, cx, cy, n)\n",
    "    r = dist(ux, uy)\n",
    "\n",
    "    x, y = dxdy(ux, uy, -hx, -hx)\n",
    "    \n",
    "    dx, dy = dxdy(kx, ky, x, y)\n",
    "    d = dist(dx, dy)\n",
    "    return True if d >= r else False"
   ]
  },
  {
   "cell_type": "markdown",
   "metadata": {},
   "source": [
    "Check the function for a few cases."
   ]
  },
  {
   "cell_type": "code",
   "execution_count": 4,
   "metadata": {},
   "outputs": [
    {
     "name": "stdout",
     "output_type": "stream",
     "text": [
      ".45: False\n",
      ".49: False\n",
      ".50: False\n",
      ".51: True\n",
      ".95: True\n"
     ]
    }
   ],
   "source": [
    "print('.45: {}'.format(qtestxy(.4, .4, .5, .5, .6, .4, .5, .45)))\n",
    "print('.49: {}'.format(qtestxy(.4, .4, .5, .5, .6, .4, .5, .49)))\n",
    "print('.50: {}'.format(qtestxy(.4, .4, .5, .5, .6, .4, .5, .50)))\n",
    "print('.51: {}'.format(qtestxy(.4, .4, .5, .5, .6, .4, .5, .51)))\n",
    "print('.95: {}'.format(qtestxy(.4, .4, .5, .5, .6, .4, .5, .95)))"
   ]
  },
  {
   "cell_type": "markdown",
   "metadata": {},
   "source": [
    "## train\n",
    "\n",
    "It's important to use `np` arrays for these structures so that the dimension of the tensors can be determined by tensorflow."
   ]
  },
  {
   "cell_type": "code",
   "execution_count": 5,
   "metadata": {},
   "outputs": [],
   "source": [
    "def train(epochs, ntrain, ntest, steps, layers, end, style=0, start=0, modeldir='qtestNN'):\n",
    "    \"\"\"train a data set, returning accuracy\"\"\"\n",
    "    accuracy = []\n",
    "    \n",
    "    def samples(n):\n",
    "        \"\"\"returns an 8 vector of 4 random points\"\"\"\n",
    "        res = []\n",
    "        for _ in range(n):\n",
    "            s = [ int(random()*100000)/100000 for _ in range(8) ]\n",
    "            res.append(s)\n",
    "        return np.array(res)\n",
    "\n",
    "    trainingxs = samples(ntrain)\n",
    "    testingxs = samples(ntest)\n",
    "\n",
    "    def ysfor(xs):\n",
    "        \"\"\"return truth values using qtest\"\"\"\n",
    "        return np.array([1 if qtestxy(h0, h1, i0, i1, j0, j1, k0, k1) else 0\n",
    "                         for h0, h1, i0, i1, j0, j1, k0, k1 in xs])\n",
    "\n",
    "    trainingys = ysfor(trainingxs)\n",
    "    testingys = ysfor(testingxs)\n",
    "\n",
    "    def parts0(hx, hy, ix, iy, jx, jy, kx, ky, pstlye=0):\n",
    "        \"\"\"return an array of intermediate calculations used in qtest\"\"\"\n",
    "\n",
    "        bx, by = dxdy(ix, iy, hx, hy)\n",
    "        cx, cy = dxdy(jx, jy, hx, hy)\n",
    "\n",
    "                                                                                                        \n",
    "        n = norm(bx, by, cx, cy)\n",
    "\n",
    "        ux, uy = circlexy(bx,  by, cx, cy, n)\n",
    "        r = dist(ux, uy)\n",
    "\n",
    "        x, y = dxdy(ux, uy, -hx, -hx)\n",
    "    \n",
    "        dx, dy = dxdy(kx, ky, x, y)\n",
    "        d = dist(dx, dy)\n",
    "        v = 1.0 if d >= r else 0.0\n",
    "        return [ bx, by, cx, cy, n, ux, uy, r, x, y, dx, dy, d, v ]\n",
    "    \n",
    "    def parts1(hx, hy, ix, iy, jx, jy, kx, ky):\n",
    "        \"\"\"return an array of distance attributes that might help find an accurate solution\"\"\"\n",
    "        dx, dy = dxdy(kx, ky, hx, hy)\n",
    "        kh = dist(dx, dy)\n",
    "        \n",
    "        dx, dy = dxdy(kx, ky, ix, iy)\n",
    "        ki = dist(dx, dy)\n",
    "\n",
    "        dx, dy = dxdy(kx, ky, jx, jy)\n",
    "        kj = dist(dx, dy)\n",
    "\n",
    "        dx, dy = dxdy(jx, jy, hx, hy)\n",
    "        jh = dist(dx, dy)\n",
    "\n",
    "        dx, dy = dxdy(jx, jy, ix, iy)\n",
    "        ji = dist(dx, dy)\n",
    "\n",
    "        dx, dy = dxdy(ix, iy, hx, hy)\n",
    "        ih = dist(dx, dy)\n",
    "\n",
    "        return [ kh, ki, kj, jh, ji, ih ]\n",
    "\n",
    "    def parts2(hx, hy, ix, iy, jx, jy, kx, ky):\n",
    "        \"\"\"return an array of angle attributes that might help find an accurate solution\"\"\"\n",
    "\n",
    "        def cos_angle(ax, ay, bx, by, cx, cy):\n",
    "            # c2 = a2 + b2 - 2ab cos theta\n",
    "            dx, dy = dxdy(ax, ay, bx, by)\n",
    "            ab = dist(dx, dy)\n",
    "            dx, dy = dxdy(cx, cy, bx, by)\n",
    "            cb = dist(dx, dy)\n",
    "            dx, dy = dxdy(ax, ay, cx, cy)\n",
    "            ac = dist(dx, dy)\n",
    "            return (ab*ab + cb*cb - ac*ac) / (2*ab*cb)\n",
    "\n",
    "        hki = cos_angle(hx, hy, kx, ky, ix, iy)\n",
    "        hkj = cos_angle(hx, hy, kx, ky, jx, jy)\n",
    "        jki = cos_angle(jx, jy, kx, ky, ix, iy)\n",
    "\n",
    "        hji = cos_angle(hx, hy, jx, jy, ix, iy)\n",
    "        hjk = cos_angle(hx, hy, jx, jy, kx, ky)\n",
    "        ijk = cos_angle(ix, iy, jx, jy, kx, ky)\n",
    "        \n",
    "        hij = cos_angle(hx, hy, ix, iy, jx, jy)\n",
    "        hik = cos_angle(hx, hy, ix, iy, kx, ky)\n",
    "        jik = cos_angle(jx, jy, ix, iy, kx, ky)\n",
    "\n",
    "        ihj = cos_angle(ix, iy, hx, hy, jx, jy)\n",
    "        ihk = cos_angle(ix, iy, hx, hy, kx, ky)\n",
    "        jhk = cos_angle(jx, jy, hx, hy, kx, ky)\n",
    "\n",
    "        return [ hki, hkj, jki,  hji, hjk, ijk,  hij, hik, jik,  ihj, ihk, jhk ]\n",
    "    \n",
    "    parts = parts0\n",
    "    if style == 1:\n",
    "        parts = parts1\n",
    "    elif style == 2:\n",
    "        parts = parts2\n",
    "\n",
    "\n",
    "    def mixin(xs, start, end):\n",
    "        \"\"\"Update inputs with addition intermediate values\"\"\"\n",
    "        ns = []\n",
    "        for hx, hy, ix, iy, jx, jy, kx, ky in xs:\n",
    "            ns.append([hx, hy, ix, iy, jx, jy, kx, ky] + parts(hx, hy, ix, iy, jx, jy, kx, ky)[start:end])\n",
    "        return np.array(ns)\n",
    "    \n",
    "    trainingxs = mixin(trainingxs, start, end)\n",
    "    testingxs = mixin(testingxs, start, end)\n",
    "    \n",
    "    try:\n",
    "        rmtree(modeldir)\n",
    "    except:\n",
    "        pass\n",
    "    \n",
    "    verb = tf.logging.get_verbosity()\n",
    "    tf.logging.set_verbosity(tf.logging.WARN)\n",
    "    \n",
    "    classifier = tf.estimator.DNNClassifier(\n",
    "        feature_columns=[ tf.contrib.layers.real_valued_column(\"x\", dimension = trainingxs.shape[1] ) ],\n",
    "        hidden_units=layers,\n",
    "        model_dir=modeldir,\n",
    "        config=tf.estimator.RunConfig().replace(keep_checkpoint_max=1),\n",
    "        n_classes=2)\n",
    "    \n",
    "    def prepx(x):\n",
    "        return {\n",
    "            'x': tf.constant(x)\n",
    "        }\n",
    "    \n",
    "    def prepy(y):\n",
    "        return tf.constant(y)\n",
    "    \n",
    "    def prep(x, y):\n",
    "        return prepx(x), prepy(y)\n",
    "\n",
    "    stime = time()\n",
    "    for epoch in range(epochs):\n",
    "        classifier.train(input_fn=lambda: prep(trainingxs, trainingys), steps=steps)\n",
    "        accuracy_score = classifier.evaluate(input_fn=lambda: prep(testingxs, testingys), steps=1)[\"accuracy\"]\n",
    "        print(\" {:5.3f}\".format(accuracy_score), end='', flush=True)\n",
    "        if epoch % 10 == 9:\n",
    "            print(' {:03d} {:6.4f} hours'.format(1+epoch, (time()-stime)/3600))\n",
    "        accuracy.append(accuracy_score)\n",
    "        if accuracy_score > 0.95:\n",
    "            break\n",
    "    print('\\n{:6.4f} hours'.format((time()-stime)/3600))\n",
    "    tf.logging.set_verbosity(verb)\n",
    "\n",
    "    return accuracy"
   ]
  },
  {
   "cell_type": "markdown",
   "metadata": {},
   "source": [
    "For the first series of test, use a large 3 layer, 100 node neural net.\n",
    "On each iteration, reduce the number of intermediate results to determine\n",
    "which values are most helpful.\n",
    "Since the intermediate values includes the answer, we will have a iteration with\n",
    "accurate results. And since the final iteration doesn't include intermediate values,\n",
    "we will have a baseline case as well."
   ]
  },
  {
   "cell_type": "code",
   "execution_count": 6,
   "metadata": {
    "scrolled": false
   },
   "outputs": [
    {
     "name": "stdout",
     "output_type": "stream",
     "text": [
      "end: 14\n",
      "WARNING:tensorflow:From /Users/eric/anaconda/envs/py36/lib/python3.6/site-packages/tensorflow/contrib/learn/python/learn/datasets/base.py:198: retry (from tensorflow.contrib.learn.python.learn.datasets.base) is deprecated and will be removed in a future version.\n",
      "Instructions for updating:\n",
      "Use the retry module or similar alternatives.\n",
      " 0.999\n",
      "0.0023 hours\n",
      "end: 13\n",
      " 0.946 0.940 0.952\n",
      "0.0063 hours\n",
      "end: 12\n",
      " 0.885 0.919 0.950 0.957\n",
      "0.0086 hours\n",
      "end: 10\n",
      " 0.801 0.910 0.940 0.942 0.944 0.976\n",
      "0.0124 hours\n",
      "end: 8\n",
      " 0.785 0.912 0.944 0.949 0.975\n",
      "0.0103 hours\n",
      "end: 7\n",
      " 0.851 0.959\n",
      "0.0040 hours\n",
      "end: 5\n",
      " 0.720 0.785 0.816 0.822 0.824 0.848 0.846 0.850 0.863 0.853 010 0.0203 hours\n",
      " 0.855 0.860 0.849 0.861 0.860 0.861 0.866 0.861 0.864 0.863 020 0.0406 hours\n",
      " 0.861 0.869 0.860 0.860 0.858 0.857 0.857 0.854 0.855 0.854 030 0.0612 hours\n",
      " 0.853 0.854 0.854 0.856 0.860 0.861 0.863 0.862 0.860 0.863 040 0.0836 hours\n",
      " 0.862 0.860 0.858 0.856 0.855 0.856 0.856 0.854 0.855 0.858 050 0.1058 hours\n",
      " 0.858 0.858 0.857 0.856 0.856 0.857 0.855 0.858 0.857 0.855 060 0.1276 hours\n",
      " 0.855 0.856 0.855 0.856 0.856 0.856 0.857 0.856 0.856 0.856 070 0.1493 hours\n",
      " 0.858 0.859 0.859 0.859 0.859 0.859 0.859 0.859 0.858 0.858 080 0.1710 hours\n",
      " 0.857 0.857 0.857 0.857 0.855 0.854 0.855 0.855 0.855 0.855 090 0.1930 hours\n",
      " 0.855 0.854 0.854 0.854 0.854 0.854 0.854 0.854 0.855 0.855 100 0.2146 hours\n",
      "\n",
      "0.2146 hours\n",
      "end: 4\n",
      " 0.812 0.813 0.822 0.830 0.824 0.851 0.843 0.839 0.838 0.857 010 0.0202 hours\n",
      " 0.845 0.855 0.841 0.851 0.843 0.844 0.845 0.847 0.848 0.848 020 0.0403 hours\n",
      " 0.849 0.847 0.829 0.846 0.846 0.843 0.843 0.838 0.835 0.842 030 0.0605 hours\n",
      " 0.836 0.837 0.839 0.837 0.836 0.835 0.836 0.834 0.834 0.837 040 0.0813 hours\n",
      " 0.837 0.837 0.840 0.834 0.837 0.838 0.831 0.834 0.834 0.837 050 0.1016 hours\n",
      " 0.835 0.837 0.836 0.836 0.836 0.837 0.836 0.834 0.834 0.833 060 0.1219 hours\n",
      " 0.832 0.831 0.832 0.832 0.829 0.830 0.830 0.830 0.830 0.830 070 0.1423 hours\n",
      " 0.829 0.829 0.829 0.830 0.830 0.829 0.828 0.828 0.828 0.829 080 0.1628 hours\n",
      " 0.829 0.829 0.829 0.829 0.829 0.830 0.831 0.832 0.832 0.833 090 0.1831 hours\n",
      " 0.833 0.833 0.832 0.832 0.833 0.833 0.832 0.833 0.834 0.832 100 0.2037 hours\n",
      "\n",
      "0.2037 hours\n",
      "end: 0\n",
      " 0.745 0.763 0.780 0.790 0.808 0.796 0.809 0.821 0.823 0.822 010 0.0199 hours\n",
      " 0.828 0.799 0.821 0.828 0.818 0.822 0.835 0.822 0.831 0.831 020 0.0407 hours\n",
      " 0.827 0.828 0.831 0.812 0.830 0.826 0.824 0.826 0.824 0.822 030 0.0608 hours\n",
      " 0.824 0.830 0.823 0.828 0.828 0.824 0.827 0.826 0.831 0.825 040 0.0809 hours\n",
      " 0.825 0.829 0.824 0.823 0.822 0.821 0.823 0.819 0.824 0.825 050 0.1008 hours\n",
      " 0.820 0.822 0.821 0.823 0.821 0.819 0.819 0.822 0.822 0.824 060 0.1209 hours\n",
      " 0.826 0.826 0.826 0.827 0.826 0.827 0.826 0.827 0.828 0.827 070 0.1410 hours\n",
      " 0.827 0.827 0.827 0.829 0.829 0.830 0.830 0.831 0.829 0.830 080 0.1609 hours\n",
      " 0.828 0.828 0.830 0.829 0.828 0.828 0.830 0.830 0.828 0.828 090 0.1808 hours\n",
      " 0.828 0.827 0.828 0.829 0.830 0.829 0.829 0.829 0.830 0.830 100 0.2010 hours\n",
      "\n",
      "0.2010 hours\n"
     ]
    }
   ],
   "source": [
    "for end in [14, 13, 12, 10, 8, 7, 5, 4, 0]:\n",
    "    print('end: {}'.format(end))\n",
    "    train(epochs=100, ntrain=10000, ntest=1000, steps=100, layers=[100, 100, 100], end=end, style=0)"
   ]
  },
  {
   "cell_type": "markdown",
   "metadata": {},
   "source": [
    "With 7 additional intermediate values the accuracy is high\n",
    "and it drops significantly with 5 values.\n",
    "Values 5 and 6 are ux, uy - the center of the circumcircle.\n",
    "\n",
    "First, I'll check if a larger net might have with 5 intermediate values."
   ]
  },
  {
   "cell_type": "code",
   "execution_count": 7,
   "metadata": {},
   "outputs": [
    {
     "name": "stdout",
     "output_type": "stream",
     "text": [
      "end: 5\n",
      " 0.749 0.715 0.805 0.811 0.815 0.824 0.821 0.823 0.801 0.814 010 0.0316 hours\n",
      " 0.839 0.833 0.820 0.832 0.826 0.832 0.827 0.829 0.826 0.823 020 0.0630 hours\n",
      " 0.820 0.822 0.822 0.822 0.822 0.824 0.827 0.827 0.827 0.828 030 0.0942 hours\n",
      " 0.828 0.828 0.828 0.828 0.830 0.829 0.829 0.829 0.829 0.828 040 0.1256 hours\n",
      " 0.829 0.829 0.828 0.828 0.829 0.830 0.830 0.830 0.830 0.830 050 0.1571 hours\n",
      " 0.830 0.830 0.830 0.830 0.830 0.830 0.830 0.830 0.829 0.829 060 0.1890 hours\n",
      " 0.829 0.829 0.829 0.829 0.829 0.829 0.829 0.829 0.829 0.829 070 0.2203 hours\n",
      " 0.829 0.829 0.829 0.829 0.829 0.829 0.829 0.829 0.829 0.829 080 0.2515 hours\n",
      " 0.829 0.829 0.829 0.829 0.829 0.829 0.829 0.829 0.829 0.829 090 0.2827 hours\n",
      " 0.829 0.829 0.829 0.829 0.829 0.829 0.829 0.829 0.829 0.829 100 0.3142 hours\n",
      "\n",
      "0.3142 hours\n"
     ]
    }
   ],
   "source": [
    "for end in [5]:\n",
    "    print('end: {}'.format(end))\n",
    "    train(epochs=100, ntrain=10000, ntest=1000, steps=100, layers=[100, 100, 100, 100, 100], end=end, style=0)"
   ]
  },
  {
   "cell_type": "markdown",
   "metadata": {},
   "source": [
    "There is an improvement, but it isn't very significant.\n",
    "May be the net needs to be wider instead of deeper."
   ]
  },
  {
   "cell_type": "code",
   "execution_count": 8,
   "metadata": {},
   "outputs": [
    {
     "name": "stdout",
     "output_type": "stream",
     "text": [
      "end: 5\n",
      " 0.748 0.754 0.779 0.797 0.808 0.827 0.849 0.854 0.836 0.845 010 0.0721 hours\n",
      " 0.876 0.878 0.878 0.881 0.878 0.879 0.883 0.887 0.886 0.885 020 0.1442 hours\n",
      " 0.882 0.883 0.880 0.880 0.878 0.879 0.878 0.880 0.881 0.882 030 0.2172 hours\n",
      " 0.882 0.884 0.884 0.886 0.886 0.889 0.888 0.888 0.888 0.887 040 0.2929 hours\n",
      " 0.887 0.888 0.888 0.888 0.888 0.888 0.887 0.887 0.888 0.887 050 0.3699 hours\n",
      " 0.886 0.886 0.886 0.885 0.885 0.885 0.885 0.885 0.885 0.885 060 0.4421 hours\n",
      " 0.885 0.885 0.885 0.886 0.886 0.886 0.886 0.886 0.886 0.886 070 0.5147 hours\n",
      " 0.886 0.886 0.887 0.886 0.886 0.886 0.886 0.887 0.887 0.887 080 0.5871 hours\n",
      " 0.887 0.887 0.887 0.887 0.887 0.887 0.887 0.887 0.887 0.887 090 0.6601 hours\n",
      " 0.887 0.887 0.886 0.886 0.886 0.886 0.886 0.885 0.885 0.885 100 0.7327 hours\n",
      "\n",
      "0.7327 hours\n"
     ]
    }
   ],
   "source": [
    "for end in [5]:\n",
    "    print('end: {}'.format(end))\n",
    "    train(epochs=100, ntrain=10000, ntest=1000, steps=100, layers=[300, 300, 300], end=end, style=0)"
   ]
  },
  {
   "cell_type": "markdown",
   "metadata": {},
   "source": [
    "A wider net provides a smaller improvement.\n",
    "So it doesn't seem to be a limitation of the size of the net.\n",
    "\n",
    "Now I'll try to use distance features of the points as intermediate values."
   ]
  },
  {
   "cell_type": "code",
   "execution_count": 9,
   "metadata": {},
   "outputs": [
    {
     "name": "stdout",
     "output_type": "stream",
     "text": [
      "end: 6\n",
      " 0.705 0.760 0.762 0.785 0.782 0.783 0.790 0.793 0.788 0.788 010 0.0206 hours\n",
      " 0.796 0.792 0.805 0.796 0.809 0.817 0.809 0.817 0.815 0.802 020 0.0412 hours\n",
      " 0.810 0.810 0.807 0.825 0.819 0.818 0.810 0.810 0.812 0.819 030 0.0616 hours\n",
      " 0.817 0.805 0.814 0.814 0.813 0.811 0.815 0.814 0.817 0.810 040 0.0824 hours\n",
      " 0.812 0.810 0.815 0.812 0.810 0.813 0.807 0.809 0.814 0.812 050 0.1029 hours\n",
      " 0.806 0.815 0.814 0.815 0.808 0.809 0.812 0.815 0.813 0.812 060 0.1238 hours\n",
      " 0.812 0.811 0.811 0.811 0.810 0.810 0.811 0.807 0.810 0.809 070 0.1446 hours\n",
      " 0.809 0.810 0.810 0.809 0.810 0.810 0.809 0.810 0.812 0.809 080 0.1652 hours\n",
      " 0.811 0.811 0.811 0.812 0.811 0.813 0.811 0.812 0.813 0.810 090 0.1865 hours\n",
      " 0.814 0.813 0.812 0.810 0.812 0.813 0.811 0.812 0.812 0.812 100 0.2072 hours\n",
      "\n",
      "0.2072 hours\n"
     ]
    }
   ],
   "source": [
    "for end in [6]:\n",
    "    print('end: {}'.format(end))\n",
    "    train(epochs=100, ntrain=10000, ntest=1000, steps=100, layers=[100, 100, 100], end=end, style=1)"
   ]
  },
  {
   "cell_type": "markdown",
   "metadata": {},
   "source": [
    "No improvement with the distance features.\n",
    "\n",
    "Now try angle features."
   ]
  },
  {
   "cell_type": "code",
   "execution_count": 10,
   "metadata": {},
   "outputs": [
    {
     "name": "stdout",
     "output_type": "stream",
     "text": [
      "end: 12\n",
      " 0.732 0.803 0.820 0.828 0.840 0.847 0.848 0.857 0.857 0.863 010 0.0211 hours\n",
      " 0.863 0.860 0.865 0.863 0.857 0.860 0.865 0.861 0.862 0.863 020 0.0427 hours\n",
      " 0.862 0.862 0.861 0.860 0.859 0.859 0.863 0.861 0.861 0.860 030 0.0637 hours\n",
      " 0.859 0.859 0.861 0.861 0.861 0.864 0.863 0.863 0.862 0.863 040 0.0848 hours\n",
      " 0.862 0.862 0.862 0.862 0.862 0.861 0.861 0.861 0.860 0.860 050 0.1058 hours\n",
      " 0.860 0.860 0.860 0.860 0.860 0.859 0.859 0.859 0.859 0.859 060 0.1271 hours\n",
      " 0.859 0.859 0.859 0.859 0.859 0.859 0.859 0.859 0.858 0.858 070 0.1483 hours\n",
      " 0.858 0.858 0.858 0.858 0.858 0.858 0.858 0.858 0.858 0.859 080 0.1696 hours\n",
      " 0.859 0.859 0.859 0.859 0.859 0.859 0.859 0.859 0.859 0.859 090 0.1917 hours\n",
      " 0.859 0.859 0.859 0.859 0.859 0.859 0.859 0.859 0.859 0.859 100 0.2153 hours\n",
      "\n",
      "0.2153 hours\n"
     ]
    }
   ],
   "source": [
    "for end in [12]:\n",
    "    print('end: {}'.format(end))\n",
    "    train(epochs=100, ntrain=10000, ntest=1000, steps=100, layers=[100, 100, 100], end=end, style=2)"
   ]
  },
  {
   "cell_type": "markdown",
   "metadata": {},
   "source": [
    "No improvement with these either.\n",
    "But I'll do a quick check to see if the shape of the net makes any difference."
   ]
  },
  {
   "cell_type": "code",
   "execution_count": 11,
   "metadata": {},
   "outputs": [
    {
     "name": "stdout",
     "output_type": "stream",
     "text": [
      "end: 12\n",
      " 0.765\n",
      "0.0017 hours\n"
     ]
    }
   ],
   "source": [
    "for end in [12]:\n",
    "    print('end: {}'.format(end))\n",
    "    train(epochs=1, ntrain=10000, ntest=1000, steps=100, layers=[300], end=end, style=2)"
   ]
  },
  {
   "cell_type": "markdown",
   "metadata": {},
   "source": [
    "Now I'll focus on the circumcircle center.\n",
    "I limit the additional features to only include the circumcircle center."
   ]
  },
  {
   "cell_type": "code",
   "execution_count": 12,
   "metadata": {},
   "outputs": [
    {
     "name": "stdout",
     "output_type": "stream",
     "text": [
      "end: 7\n",
      " 0.760 0.906 0.935 0.935 0.969\n",
      "0.0107 hours\n"
     ]
    }
   ],
   "source": [
    "for end in [7]:\n",
    "    print('end: {}'.format(end))\n",
    "    train(epochs=100, ntrain=10000, ntest=1000, steps=100, layers=[100, 100, 100], start=end-2, end=end, style=0)"
   ]
  },
  {
   "cell_type": "markdown",
   "metadata": {},
   "source": [
    "The converged quickly.\n",
    "It seems that the circumcircle center is the key missing piece of information\n",
    "that the net cannot determine on its own.\n",
    "\n",
    "Now I'll see how small a net is needed with this expanded feature set."
   ]
  },
  {
   "cell_type": "code",
   "execution_count": 13,
   "metadata": {},
   "outputs": [
    {
     "name": "stdout",
     "output_type": "stream",
     "text": [
      "end: 7\n",
      " 0.857 0.863 0.916 0.922 0.940 0.945 0.948 0.952\n",
      "0.0080 hours\n"
     ]
    }
   ],
   "source": [
    "for end in [7]:\n",
    "    print('end: {}'.format(end))\n",
    "    train(epochs=100, ntrain=10000, ntest=1000, steps=100, layers=[100], start=end-2, end=end, style=0)"
   ]
  },
  {
   "cell_type": "markdown",
   "metadata": {},
   "source": [
    "One lay works almost as well as 3 layers.\n",
    "\n",
    "But now wide does it need to be?"
   ]
  },
  {
   "cell_type": "code",
   "execution_count": 14,
   "metadata": {},
   "outputs": [
    {
     "name": "stdout",
     "output_type": "stream",
     "text": [
      "end: 7\n",
      " 0.824 0.897 0.913 0.926 0.934 0.936 0.948 0.948 0.955\n",
      "0.0078 hours\n"
     ]
    }
   ],
   "source": [
    "for end in [7]:\n",
    "    print('end: {}'.format(end))\n",
    "    train(epochs=100, ntrain=10000, ntest=1000, steps=100, layers=[50], start=end-2, end=end, style=0)"
   ]
  },
  {
   "cell_type": "markdown",
   "metadata": {},
   "source": [
    "50 nodes works well ... may be fewer are needed?"
   ]
  },
  {
   "cell_type": "code",
   "execution_count": 15,
   "metadata": {},
   "outputs": [
    {
     "name": "stdout",
     "output_type": "stream",
     "text": [
      "end: 7\n",
      " 0.723 0.807 0.873 0.911 0.930 0.945 0.953\n",
      "0.0053 hours\n"
     ]
    }
   ],
   "source": [
    "for end in [7]:\n",
    "    print('end: {}'.format(end))\n",
    "    train(epochs=100, ntrain=10000, ntest=1000, steps=100, layers=[25], start=end-2, end=end, style=0)"
   ]
  },
  {
   "cell_type": "code",
   "execution_count": 16,
   "metadata": {},
   "outputs": [
    {
     "name": "stdout",
     "output_type": "stream",
     "text": [
      "end: 7\n",
      " 0.730 0.849 0.885 0.907 0.913 0.924 0.926 0.931 0.932 0.931 010 0.0076 hours\n",
      " 0.937 0.937 0.938 0.938 0.942 0.944 0.943 0.946 0.947 0.947 020 0.0152 hours\n",
      " 0.949 0.950 0.952\n",
      "0.0174 hours\n"
     ]
    }
   ],
   "source": [
    "for end in [7]:\n",
    "    print('end: {}'.format(end))\n",
    "    train(epochs=100, ntrain=10000, ntest=1000, steps=100, layers=[15], start=end-2, end=end, style=0)"
   ]
  },
  {
   "cell_type": "code",
   "execution_count": 17,
   "metadata": {},
   "outputs": [
    {
     "name": "stdout",
     "output_type": "stream",
     "text": [
      "end: 7\n",
      " 0.663 0.671 0.699 0.723 0.740 0.756 0.773 0.804 0.840 0.865 010 0.0074 hours\n",
      " 0.886 0.894 0.902 0.905 0.912 0.915 0.918 0.918 0.921 0.924 020 0.0146 hours\n",
      " 0.926 0.928 0.932 0.932 0.939 0.942 0.941 0.941 0.941 0.944 030 0.0212 hours\n",
      " 0.946 0.944 0.949 0.950 0.952\n",
      "0.0246 hours\n"
     ]
    }
   ],
   "source": [
    "for end in [7]:\n",
    "    print('end: {}'.format(end))\n",
    "    train(epochs=100, ntrain=10000, ntest=1000, steps=100, layers=[10], start=end-2, end=end, style=0)"
   ]
  },
  {
   "cell_type": "markdown",
   "metadata": {},
   "source": [
    "# Final Remarks\n",
    "\n",
    "`qtest` is just one part of a complex algorithm for determining a Delaunay triangulation.\n",
    "To train a net to emulate `qtest`, I created a perfectly correct, noiseless, training data set (as well as a test data set). I created a relatively large net and found that accuracy was limited to ~83%.\n",
    "I tried a variety of additional features to improve the accuracy.\n",
    "As expected it worked very well with lots of intermediate features.\n",
    "But the accuracy dropped significantly when the circumcircle center was not included\n",
    "in the intermediate features.\n",
    "I did a number of simulations to confirm that the circle center was the critically\n",
    "missing piece of information.\n",
    "With the circle center, I was able to reduce the net size significantly.\n",
    "\n",
    "This implies that the net cannot determine the circle center on its own.\n",
    "It also suggests that other features, such as distances, can to modeled by the net.\n",
    "\n",
    "Further work could look at creating a net that takes 3 points as input and\n",
    "determine their circumcircle center.\n",
    "Or confirming that other features can be readily modeled by a net.\n"
   ]
  }
 ],
 "metadata": {
  "kernelspec": {
   "display_name": "Python 3",
   "language": "python",
   "name": "python3"
  },
  "language_info": {
   "codemirror_mode": {
    "name": "ipython",
    "version": 3
   },
   "file_extension": ".py",
   "mimetype": "text/x-python",
   "name": "python",
   "nbconvert_exporter": "python",
   "pygments_lexer": "ipython3",
   "version": "3.6.3"
  }
 },
 "nbformat": 4,
 "nbformat_minor": 2
}
