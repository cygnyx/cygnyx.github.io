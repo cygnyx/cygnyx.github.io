{
 "cells": [
  {
   "cell_type": "markdown",
   "metadata": {},
   "source": [
    "# qtestNN\n",
    "\n",
    "`qtest` is part of a Delaunay Triangulation algorithm.\n",
    "This notebook explores how a neural network can be used to emulate its functionality.\n",
    "The approach is to use `qtest` to build training and testing datasets.\n",
    "Then additional intermediate values can be included in the NN to observe the improvement in accuracy.\n",
    "\n",
    "I found that the circumcircle center cannot be determined by the net,\n",
    "but all other intermediate values can be modeled by it."
   ]
  },
  {
   "cell_type": "markdown",
   "metadata": {},
   "source": [
    "## Preliminaries\n",
    "\n",
    "Import the main packages.\n",
    "Control tensorflow logging."
   ]
  },
  {
   "cell_type": "code",
   "execution_count": 1,
   "metadata": {},
   "outputs": [],
   "source": [
    "import tensorflow as tf\n",
    "import numpy as np"
   ]
  },
  {
   "cell_type": "code",
   "execution_count": 2,
   "metadata": {},
   "outputs": [],
   "source": [
    "from random import random\n",
    "from time import time"
   ]
  },
  {
   "cell_type": "code",
   "execution_count": 3,
   "metadata": {},
   "outputs": [],
   "source": [
    "tf.logging.set_verbosity(tf.logging.ERROR)"
   ]
  },
  {
   "cell_type": "markdown",
   "metadata": {},
   "source": [
    "## qtest\n",
    "\n",
    "`qtest` in `pointset` operates on vertices.\n",
    "This implementation operates on 4 points: the first three define the circumcircle,\n",
    "the fourth is tested for inclusion in the circumcircle.\n",
    "I've also broken down the steps into individual functions\n",
    "so that meaningful intermediate values can be reproduced."
   ]
  },
  {
   "cell_type": "code",
   "execution_count": 4,
   "metadata": {},
   "outputs": [],
   "source": [
    "def dxdy(ix, iy, hx, hy):\n",
    "    \"\"\"The difference between two vectors\"\"\"\n",
    "    return ix - hx, iy - hy\n",
    "\n",
    "def norm(bx, by, cx, cy):\n",
    "    \"\"\"The norm used in calculating the circumcircle center\"\"\"\n",
    "    return 2 * ( bx * cy - by * cx )\n",
    "\n",
    "def circlexy(bx, by, cx, cy, d):\n",
    "    \"\"\"Return the circumcircle of the vectors and the origin\"\"\"\n",
    "    ux = ( cy * (bx * bx + by * by) - by * (cx * cx + cy * cy) )\n",
    "    uy = ( bx * (cx * cx + cy * cy) - cx * (bx * bx + by * by) )\n",
    "    ux = ux / d\n",
    "    uy = uy / d\n",
    "    return ux, uy\n",
    "\n",
    "def dist(x, y):\n",
    "    \"\"\"Return the distance between a point and the origin\"\"\"\n",
    "    return int( (x * x + y * y)**0.5 * 100000) / 100000\n",
    "\n",
    "def qtestxy(hx, hy, ix, iy, jx, jy, kx, ky):\n",
    "    \"\"\"Given 3 points, return True if the 4th point is not inside their circumcircle\"\"\"\n",
    "\n",
    "    bx, by = dxdy(ix, iy, hx, hy)\n",
    "    cx, cy = dxdy(jx, jy, hx, hy)\n",
    "                                                                                                       \n",
    "    n = norm(bx, by, cx, cy)\n",
    "\n",
    "    ux, uy = circlexy(bx,  by, cx, cy, n)\n",
    "    r = dist(ux, uy)\n",
    "\n",
    "    x, y = dxdy(ux, uy, -hx, -hx)\n",
    "    \n",
    "    dx, dy = dxdy(kx, ky, x, y)\n",
    "    d = dist(dx, dy)\n",
    "    return True if d >= r else False"
   ]
  },
  {
   "cell_type": "markdown",
   "metadata": {},
   "source": [
    "Check the function for a few cases."
   ]
  },
  {
   "cell_type": "code",
   "execution_count": 5,
   "metadata": {},
   "outputs": [
    {
     "name": "stdout",
     "output_type": "stream",
     "text": [
      ".45: False\n",
      ".49: False\n",
      ".50: False\n",
      ".51: True\n",
      ".95: True\n"
     ]
    }
   ],
   "source": [
    "print('.45: {}'.format(qtestxy(.4, .4, .5, .5, .6, .4, .5, .45)))\n",
    "print('.49: {}'.format(qtestxy(.4, .4, .5, .5, .6, .4, .5, .49)))\n",
    "print('.50: {}'.format(qtestxy(.4, .4, .5, .5, .6, .4, .5, .50)))\n",
    "print('.51: {}'.format(qtestxy(.4, .4, .5, .5, .6, .4, .5, .51)))\n",
    "print('.95: {}'.format(qtestxy(.4, .4, .5, .5, .6, .4, .5, .95)))"
   ]
  },
  {
   "cell_type": "markdown",
   "metadata": {},
   "source": [
    "## train\n",
    "\n",
    "It's important to use `np` arrays for these structures so that the dimension of the tensors can be determined by tensorflow."
   ]
  },
  {
   "cell_type": "code",
   "execution_count": 6,
   "metadata": {},
   "outputs": [],
   "source": [
    "def train(epochs, ntrain, ntest, steps, layers, end, style=0, start=0):\n",
    "    \"\"\"train a data set, returning accuracy\"\"\"\n",
    "    accuracy = []\n",
    "    \n",
    "    def samples(n):\n",
    "        \"\"\"returns an 8 vector of 4 random points\"\"\"\n",
    "        res = []\n",
    "        for _ in range(n):\n",
    "            s = [ int(random()*100000)/100000 for _ in range(8) ]\n",
    "            res.append(s)\n",
    "        return np.array(res)\n",
    "\n",
    "    trainingxs = samples(ntrain)\n",
    "    testingxs = samples(ntest)\n",
    "\n",
    "    def ysfor(xs):\n",
    "        \"\"\"return truth values using qtest\"\"\"\n",
    "        return np.array([1 if qtestxy(h0, h1, i0, i1, j0, j1, k0, k1) else 0\n",
    "                         for h0, h1, i0, i1, j0, j1, k0, k1 in xs])\n",
    "\n",
    "    trainingys = ysfor(trainingxs)\n",
    "    testingys = ysfor(testingxs)\n",
    "\n",
    "    def parts0(hx, hy, ix, iy, jx, jy, kx, ky, pstlye=0):\n",
    "        \"\"\"return an array of intermediate calculations used in qtest\"\"\"\n",
    "\n",
    "        bx, by = dxdy(ix, iy, hx, hy)\n",
    "        cx, cy = dxdy(jx, jy, hx, hy)\n",
    "\n",
    "                                                                                                        \n",
    "        n = norm(bx, by, cx, cy)\n",
    "\n",
    "        ux, uy = circlexy(bx,  by, cx, cy, n)\n",
    "        r = dist(ux, uy)\n",
    "\n",
    "        x, y = dxdy(ux, uy, -hx, -hx)\n",
    "    \n",
    "        dx, dy = dxdy(kx, ky, x, y)\n",
    "        d = dist(dx, dy)\n",
    "        v = 1.0 if d >= r else 0.0\n",
    "        return [ bx, by, cx, cy, n, ux, uy, r, x, y, dx, dy, d, v ]\n",
    "    \n",
    "    def parts1(hx, hy, ix, iy, jx, jy, kx, ky):\n",
    "        \"\"\"return an array of distance attributes that might help find an accurate solution\"\"\"\n",
    "        dx, dy = dxdy(kx, ky, hx, hy)\n",
    "        kh = dist(dx, dy)\n",
    "        \n",
    "        dx, dy = dxdy(kx, ky, ix, iy)\n",
    "        ki = dist(dx, dy)\n",
    "\n",
    "        dx, dy = dxdy(kx, ky, jx, jy)\n",
    "        kj = dist(dx, dy)\n",
    "\n",
    "        dx, dy = dxdy(jx, jy, hx, hy)\n",
    "        jh = dist(dx, dy)\n",
    "\n",
    "        dx, dy = dxdy(jx, jy, ix, iy)\n",
    "        ji = dist(dx, dy)\n",
    "\n",
    "        dx, dy = dxdy(ix, iy, hx, hy)\n",
    "        ih = dist(dx, dy)\n",
    "\n",
    "        return [ kh, ki, kj, jh, ji, ih ]\n",
    "\n",
    "    def parts2(hx, hy, ix, iy, jx, jy, kx, ky):\n",
    "        \"\"\"return an array of angle attributes that might help find an accurate solution\"\"\"\n",
    "\n",
    "        def cos_angle(ax, ay, bx, by, cx, cy):\n",
    "            # c2 = a2 + b2 - 2ab cos theta\n",
    "            dx, dy = dxdy(ax, ay, bx, by)\n",
    "            ab = dist(dx, dy)\n",
    "            dx, dy = dxdy(cx, cy, bx, by)\n",
    "            cb = dist(dx, dy)\n",
    "            dx, dy = dxdy(ax, ay, cx, cy)\n",
    "            ac = dist(dx, dy)\n",
    "            return (ab*ab + cb*cb - ac*ac) / (2*ab*cb)\n",
    "\n",
    "        hki = cos_angle(hx, hy, kx, ky, ix, iy)\n",
    "        hkj = cos_angle(hx, hy, kx, ky, jx, jy)\n",
    "        jki = cos_angle(jx, jy, kx, ky, ix, iy)\n",
    "\n",
    "        hji = cos_angle(hx, hy, jx, jy, ix, iy)\n",
    "        hjk = cos_angle(hx, hy, jx, jy, kx, ky)\n",
    "        ijk = cos_angle(ix, iy, jx, jy, kx, ky)\n",
    "        \n",
    "        hij = cos_angle(hx, hy, ix, iy, jx, jy)\n",
    "        hik = cos_angle(hx, hy, ix, iy, kx, ky)\n",
    "        jik = cos_angle(jx, jy, ix, iy, kx, ky)\n",
    "\n",
    "        ihj = cos_angle(ix, iy, hx, hy, jx, jy)\n",
    "        ihk = cos_angle(ix, iy, hx, hy, kx, ky)\n",
    "        jhk = cos_angle(jx, jy, hx, hy, kx, ky)\n",
    "\n",
    "        return [ hki, hkj, jki,  hji, hjk, ijk,  hij, hik, jik,  ihj, ihk, jhk ]\n",
    "    \n",
    "    parts = parts0\n",
    "    if style == 1:\n",
    "        parts = parts1\n",
    "    elif style == 2:\n",
    "        parts = parts2\n",
    "\n",
    "\n",
    "    def mixin(xs, start, end):\n",
    "        \"\"\"Update inputs with addition intermediate values\"\"\"\n",
    "        ns = []\n",
    "        for hx, hy, ix, iy, jx, jy, kx, ky in xs:\n",
    "            ns.append([hx, hy, ix, iy, jx, jy, kx, ky] + parts(hx, hy, ix, iy, jx, jy, kx, ky)[start:end])\n",
    "        return np.array(ns)\n",
    "    \n",
    "    trainingxs = mixin(trainingxs, start, end)\n",
    "    testingxs = mixin(testingxs, start, end)\n",
    "    \n",
    "    classifier = tf.contrib.learn.DNNClassifier(\n",
    "        feature_columns=[ tf.contrib.layers.real_valued_column(\"\", dimension = trainingxs.shape[1] ) ],\n",
    "        hidden_units=layers,\n",
    "        n_classes=2)\n",
    "\n",
    "    stime = time()\n",
    "    for epoch in range(epochs):\n",
    "        classifier.fit(x=trainingxs, y=trainingys, steps=steps)\n",
    "        accuracy_score = classifier.evaluate(x=testingxs, y=testingys, steps=1)[\"accuracy\"]\n",
    "        print(\" {:5.3f}\".format(accuracy_score), end='', flush=True)\n",
    "        if epoch % 10 == 9:\n",
    "            print(' {:03d} {:6.4f} hours'.format(1+epoch, (time()-stime)/3600))\n",
    "        accuracy.append(accuracy_score)\n",
    "        if accuracy_score > 0.99:\n",
    "            break\n",
    "    print('\\n{:6.4f} hours'.format((time()-stime)/3600))\n",
    "    \n",
    "    return accuracy"
   ]
  },
  {
   "cell_type": "markdown",
   "metadata": {},
   "source": [
    "For the first series of test, use a large 3 layer, 100 node neural net.\n",
    "On each iteration, reduce the number of intermediate results to determine\n",
    "which values are most helpful.\n",
    "Since the intermediate values includes the answer, we will have a iteration with\n",
    "accurate results. And since the final iteration doesn't include intermediate values,\n",
    "we will have a baseline case as well."
   ]
  },
  {
   "cell_type": "code",
   "execution_count": 7,
   "metadata": {
    "scrolled": false
   },
   "outputs": [
    {
     "name": "stdout",
     "output_type": "stream",
     "text": [
      "end: 14\n",
      " 0.998\n",
      "0.0053 hours\n",
      "end: 13\n",
      " 0.784 0.873 0.920 0.942 0.954 0.967 0.974 0.983 0.984 0.984 010 0.0499 hours\n",
      " 0.981 0.985 0.972 0.985 0.985 0.986 0.961 0.986 0.987 0.986 020 0.0957 hours\n",
      " 0.986 0.987 0.987 0.986 0.986 0.914 0.987 0.985 0.985 0.985 030 0.1410 hours\n",
      " 0.985 0.985 0.985 0.985 0.985 0.986 0.986 0.986 0.986 0.986 040 0.1864 hours\n",
      " 0.986 0.988 0.988 0.988 0.988 0.988 0.988 0.988 0.988 0.988 050 0.2318 hours\n",
      " 0.988 0.988 0.988 0.988 0.988 0.988 0.988 0.989 0.989 0.989 060 0.2769 hours\n",
      " 0.989 0.989 0.989 0.989 0.989 0.989 0.989 0.989 0.989 0.989 070 0.3223 hours\n",
      " 0.989 0.989 0.989 0.989 0.989 0.989 0.989 0.989 0.989 0.989 080 0.3686 hours\n",
      " 0.989 0.989 0.989 0.989 0.989 0.989 0.989 0.989 0.989 0.989 090 0.4138 hours\n",
      " 0.989 0.989 0.989 0.989 0.989 0.989 0.989 0.989 0.989 0.988 100 0.4600 hours\n",
      "\n",
      "0.4600 hours\n",
      "end: 12\n",
      " 0.685 0.791 0.879 0.925 0.938 0.945 0.937 0.971 0.975 0.910 010 0.0453 hours\n",
      " 0.974 0.940 0.926 0.973 0.979 0.977 0.979 0.979 0.979 0.906 020 0.1001 hours\n",
      " 0.981 0.971 0.982 0.981 0.982 0.982 0.979 0.976 0.980 0.981 030 0.1473 hours\n",
      " 0.980 0.982 0.982 0.982 0.982 0.981 0.980 0.980 0.982 0.982 040 0.1956 hours\n",
      " 0.982 0.982 0.982 0.981 0.985 0.984 0.984 0.983 0.983 0.983 050 0.2429 hours\n",
      " 0.983 0.982 0.983 0.983 0.983 0.983 0.983 0.983 0.983 0.983 060 0.2871 hours\n",
      " 0.983 0.981 0.982 0.983 0.983 0.984 0.984 0.984 0.984 0.984 070 0.3307 hours\n",
      " 0.984 0.984 0.984 0.984 0.984 0.984 0.984 0.984 0.984 0.984 080 0.3783 hours\n",
      " 0.984 0.984 0.984 0.984 0.984 0.984 0.983 0.983 0.983 0.983 090 0.4259 hours\n",
      " 0.983 0.983 0.983 0.983 0.983 0.983 0.984 0.984 0.984 0.984 100 0.4708 hours\n",
      "\n",
      "0.4708 hours\n",
      "end: 10\n",
      " 0.694 0.722 0.779 0.779 0.871 0.889 0.961 0.960 0.961 0.975 010 0.0450 hours\n",
      " 0.976 0.950 0.973 0.944 0.970 0.948 0.977 0.977 0.977 0.975 020 0.0886 hours\n",
      " 0.978 0.977 0.979 0.978 0.979 0.980 0.981 0.981 0.980 0.982 030 0.1324 hours\n",
      " 0.983 0.982 0.980 0.981 0.981 0.980 0.980 0.980 0.982 0.981 040 0.1761 hours\n",
      " 0.982 0.982 0.982 0.982 0.982 0.982 0.981 0.982 0.982 0.981 050 0.2200 hours\n",
      " 0.981 0.981 0.981 0.981 0.980 0.980 0.980 0.980 0.981 0.981 060 0.2637 hours\n",
      " 0.981 0.981 0.981 0.981 0.981 0.980 0.980 0.978 0.976 0.983 070 0.3076 hours\n",
      " 0.983 0.983 0.983 0.984 0.983 0.982 0.982 0.983 0.982 0.981 080 0.3520 hours\n",
      " 0.980 0.979 0.979 0.979 0.979 0.979 0.980 0.980 0.980 0.980 090 0.3963 hours\n",
      " 0.980 0.980 0.980 0.980 0.980 0.980 0.980 0.980 0.980 0.980 100 0.4405 hours\n",
      "\n",
      "0.4405 hours\n",
      "end: 8\n",
      " 0.671 0.713 0.772 0.827 0.874 0.898 0.899 0.956 0.946 0.957 010 0.0446 hours\n",
      " 0.963 0.964 0.935 0.965 0.967 0.968 0.975 0.968 0.978 0.978 020 0.0887 hours\n",
      " 0.979 0.979 0.978 0.937 0.980 0.981 0.981 0.983 0.968 0.973 030 0.1330 hours\n",
      " 0.982 0.984 0.984 0.983 0.984 0.984 0.984 0.984 0.983 0.984 040 0.1767 hours\n",
      " 0.982 0.983 0.983 0.983 0.984 0.978 0.984 0.983 0.982 0.984 050 0.2204 hours\n",
      " 0.984 0.983 0.985 0.985 0.974 0.984 0.984 0.984 0.984 0.978 060 0.2642 hours\n",
      " 0.984 0.983 0.983 0.982 0.984 0.983 0.982 0.983 0.983 0.985 070 0.3078 hours\n",
      " 0.985 0.985 0.985 0.985 0.984 0.984 0.984 0.984 0.984 0.984 080 0.3512 hours\n",
      " 0.984 0.984 0.984 0.983 0.982 0.983 0.983 0.983 0.982 0.982 090 0.3954 hours\n",
      " 0.983 0.983 0.983 0.983 0.983 0.983 0.983 0.984 0.983 0.984 100 0.4442 hours\n",
      "\n",
      "0.4442 hours\n",
      "end: 7\n",
      " 0.674 0.713 0.809 0.847 0.882 0.926 0.936 0.950 0.972 0.977 010 0.0484 hours\n",
      " 0.960 0.979 0.971 0.896 0.900 0.987 0.985 0.986 0.907 0.984 020 0.0946 hours\n",
      " 0.983 0.985 0.985 0.988 0.988 0.987 0.988 0.987 0.986 0.984 030 0.1386 hours\n",
      " 0.986 0.986 0.986 0.985 0.986 0.985 0.985 0.984 0.984 0.983 040 0.1825 hours\n",
      " 0.983 0.987 0.987 0.987 0.987 0.987 0.987 0.986 0.984 0.985 050 0.2261 hours\n",
      " 0.985 0.985 0.984 0.984 0.984 0.984 0.983 0.982 0.982 0.982 060 0.2713 hours\n",
      " 0.982 0.982 0.982 0.982 0.982 0.981 0.981 0.981 0.982 0.982 070 0.3202 hours\n",
      " 0.982 0.983 0.983 0.983 0.983 0.983 0.983 0.983 0.983 0.983 080 0.3642 hours\n",
      " 0.983 0.983 0.983 0.983 0.983 0.983 0.983 0.983 0.983 0.983 090 0.4083 hours\n",
      " 0.983 0.982 0.982 0.982 0.982 0.982 0.982 0.982 0.982 0.982 100 0.4524 hours\n",
      "\n",
      "0.4524 hours\n",
      "end: 5\n",
      " 0.673 0.673 0.682 0.704 0.737 0.755 0.761 0.776 0.778 0.776 010 0.0448 hours\n",
      " 0.779 0.783 0.783 0.781 0.788 0.784 0.787 0.784 0.788 0.788 020 0.0900 hours\n",
      " 0.791 0.801 0.795 0.804 0.803 0.802 0.803 0.806 0.808 0.809 030 0.1350 hours\n",
      " 0.813 0.814 0.813 0.817 0.821 0.820 0.828 0.829 0.832 0.832 040 0.1816 hours\n",
      " 0.833 0.833 0.838 0.840 0.841 0.842 0.845 0.844 0.848 0.850 050 0.2302 hours\n",
      " 0.846 0.843 0.846 0.855 0.857 0.860 0.839 0.853 0.860 0.863 060 0.2793 hours\n",
      " 0.833 0.864 0.862 0.838 0.867 0.844 0.866 0.835 0.866 0.862 070 0.3262 hours\n",
      " 0.869 0.869 0.855 0.870 0.867 0.870 0.869 0.871 0.874 0.873 080 0.3700 hours\n",
      " 0.874 0.875 0.872 0.877 0.874 0.872 0.871 0.873 0.827 0.874 090 0.4138 hours\n",
      " 0.871 0.872 0.816 0.873 0.870 0.836 0.869 0.874 0.869 0.873 100 0.4577 hours\n",
      "\n",
      "0.4577 hours\n",
      "end: 4\n",
      " 0.661 0.661 0.698 0.742 0.752 0.761 0.771 0.778 0.784 0.790 010 0.0476 hours\n",
      " 0.790 0.792 0.786 0.785 0.783 0.786 0.783 0.784 0.786 0.786 020 0.0952 hours\n",
      " 0.788 0.784 0.785 0.790 0.787 0.790 0.792 0.794 0.794 0.795 030 0.1402 hours\n",
      " 0.797 0.797 0.802 0.797 0.802 0.805 0.804 0.806 0.802 0.807 040 0.1841 hours\n",
      " 0.802 0.805 0.807 0.807 0.808 0.809 0.809 0.807 0.809 0.814 050 0.2279 hours\n",
      " 0.809 0.809 0.817 0.814 0.813 0.817 0.817 0.816 0.816 0.816 060 0.2714 hours\n",
      " 0.817 0.820 0.815 0.814 0.813 0.819 0.823 0.819 0.817 0.822 070 0.3151 hours\n",
      " 0.825 0.823 0.820 0.820 0.830 0.830 0.830 0.830 0.831 0.831 080 0.3586 hours\n",
      " 0.830 0.828 0.827 0.826 0.827 0.826 0.830 0.832 0.832 0.833 090 0.4023 hours\n",
      " 0.832 0.832 0.832 0.829 0.830 0.831 0.830 0.834 0.834 0.832 100 0.4464 hours\n",
      "\n",
      "0.4464 hours\n",
      "end: 0\n",
      " 0.672 0.672 0.672 0.704 0.736 0.768 0.789 0.794 0.792 0.796 010 0.0444 hours\n",
      " 0.796 0.796 0.797 0.799 0.798 0.796 0.800 0.801 0.799 0.797 020 0.0881 hours\n",
      " 0.796 0.796 0.795 0.802 0.805 0.805 0.803 0.804 0.802 0.798 030 0.1316 hours\n",
      " 0.798 0.799 0.802 0.805 0.806 0.807 0.809 0.808 0.807 0.804 040 0.1755 hours\n",
      " 0.804 0.806 0.809 0.812 0.806 0.804 0.802 0.801 0.804 0.804 050 0.2191 hours\n",
      " 0.803 0.808 0.807 0.812 0.809 0.811 0.811 0.812 0.801 0.801 060 0.2626 hours\n",
      " 0.809 0.815 0.815 0.814 0.813 0.810 0.808 0.809 0.816 0.815 070 0.3070 hours\n",
      " 0.808 0.814 0.820 0.815 0.813 0.810 0.820 0.820 0.817 0.815 080 0.3516 hours\n",
      " 0.813 0.819 0.820 0.818 0.819 0.820 0.821 0.821 0.820 0.822 090 0.3952 hours\n",
      " 0.824 0.821 0.820 0.830 0.826 0.818 0.828 0.830 0.821 0.821 100 0.4388 hours\n",
      "\n",
      "0.4388 hours\n"
     ]
    }
   ],
   "source": [
    "for end in [14, 13, 12, 10, 8, 7, 5, 4, 0]:\n",
    "    print('end: {}'.format(end))\n",
    "    train(epochs=100, ntrain=10000, ntest=1000, steps=100, layers=[100, 100, 100], end=end, style=0)"
   ]
  },
  {
   "cell_type": "markdown",
   "metadata": {},
   "source": [
    "With 7 additional intermediate values the accuracy is high\n",
    "and it drops significantly with 5 values.\n",
    "Values 5 and 6 are ux, uy - the center of the circumcircle.\n",
    "\n",
    "First, I'll check if a larger net might have with 5 intermediate values."
   ]
  },
  {
   "cell_type": "code",
   "execution_count": 8,
   "metadata": {},
   "outputs": [
    {
     "name": "stdout",
     "output_type": "stream",
     "text": [
      "end: 5\n",
      " 0.663 0.683 0.711 0.757 0.782 0.792 0.797 0.796 0.799 0.800 010 0.0585 hours\n",
      " 0.797 0.798 0.796 0.802 0.810 0.811 0.812 0.818 0.822 0.831 020 0.1151 hours\n",
      " 0.826 0.835 0.840 0.821 0.795 0.835 0.866 0.837 0.866 0.876 030 0.1717 hours\n",
      " 0.864 0.856 0.872 0.868 0.775 0.878 0.880 0.876 0.887 0.886 040 0.2336 hours\n",
      " 0.888 0.887 0.889 0.854 0.887 0.888 0.890 0.875 0.890 0.891 050 0.2932 hours\n",
      " 0.893 0.894 0.896 0.893 0.896 0.894 0.897 0.894 0.894 0.897 060 0.3500 hours\n",
      " 0.896 0.898 0.898 0.898 0.897 0.897 0.898 0.898 0.899 0.899 070 0.4079 hours\n",
      " 0.899 0.899 0.899 0.899 0.899 0.899 0.899 0.900 0.900 0.899 080 0.4693 hours\n",
      " 0.899 0.900 0.900 0.900 0.900 0.900 0.900 0.900 0.901 0.902 090 0.5278 hours\n",
      " 0.902 0.902 0.901 0.901 0.901 0.901 0.901 0.901 0.901 0.901 100 0.5929 hours\n",
      "\n",
      "0.5929 hours\n"
     ]
    }
   ],
   "source": [
    "for end in [5]:\n",
    "    print('end: {}'.format(end))\n",
    "    train(epochs=100, ntrain=10000, ntest=1000, steps=100, layers=[100, 100, 100, 100, 100], end=end, style=0)"
   ]
  },
  {
   "cell_type": "markdown",
   "metadata": {},
   "source": [
    "There is an improvement, but it isn't very significant.\n",
    "May be the net needs to be wider instead of deeper."
   ]
  },
  {
   "cell_type": "code",
   "execution_count": 9,
   "metadata": {},
   "outputs": [
    {
     "name": "stdout",
     "output_type": "stream",
     "text": [
      "end: 5\n",
      " 0.637 0.641 0.705 0.728 0.754 0.773 0.783 0.786 0.792 0.797 010 0.1006 hours\n",
      " 0.799 0.801 0.803 0.803 0.808 0.809 0.809 0.811 0.815 0.817 020 0.1965 hours\n",
      " 0.819 0.825 0.827 0.828 0.825 0.832 0.835 0.835 0.835 0.838 030 0.2924 hours\n",
      " 0.839 0.838 0.843 0.849 0.852 0.852 0.851 0.839 0.859 0.859 040 0.3890 hours\n",
      " 0.827 0.858 0.840 0.862 0.864 0.868 0.858 0.834 0.844 0.871 050 0.4894 hours\n",
      " 0.873 0.875 0.810 0.877 0.876 0.877 0.868 0.874 0.869 0.874 060 0.5857 hours\n",
      " 0.876 0.881 0.887 0.802 0.883 0.882 0.881 0.884 0.886 0.766 070 0.6888 hours\n",
      " 0.881 0.886 0.889 0.890 0.889 0.769 0.886 0.895 0.889 0.894 080 0.7895 hours\n",
      " 0.895 0.898 0.896 0.895 0.895 0.894 0.896 0.897 0.896 0.894 090 0.8871 hours\n",
      " 0.894 0.894 0.897 0.895 0.898 0.896 0.894 0.894 0.896 0.894 100 0.9836 hours\n",
      "\n",
      "0.9836 hours\n"
     ]
    }
   ],
   "source": [
    "for end in [5]:\n",
    "    print('end: {}'.format(end))\n",
    "    train(epochs=100, ntrain=10000, ntest=1000, steps=100, layers=[300, 300, 300], end=end, style=0)"
   ]
  },
  {
   "cell_type": "markdown",
   "metadata": {},
   "source": [
    "A wider net provides a smaller improvement.\n",
    "So it doesn't seem to be a limitation of the size of the net.\n",
    "\n",
    "Now I'll try to use distance features of the points as intermediate values."
   ]
  },
  {
   "cell_type": "code",
   "execution_count": 10,
   "metadata": {},
   "outputs": [
    {
     "name": "stdout",
     "output_type": "stream",
     "text": [
      "end: 6\n",
      " 0.656 0.688 0.704 0.717 0.751 0.778 0.781 0.790 0.795 0.801 010 0.0447 hours\n",
      " 0.806 0.807 0.809 0.811 0.809 0.811 0.808 0.812 0.807 0.809 020 0.0887 hours\n",
      " 0.809 0.808 0.807 0.806 0.810 0.810 0.809 0.809 0.813 0.812 030 0.1329 hours\n",
      " 0.811 0.811 0.808 0.814 0.810 0.817 0.811 0.817 0.822 0.814 040 0.1770 hours\n",
      " 0.823 0.819 0.822 0.823 0.826 0.821 0.824 0.826 0.830 0.831 050 0.2208 hours\n",
      " 0.833 0.837 0.840 0.840 0.836 0.843 0.844 0.845 0.847 0.839 060 0.2646 hours\n",
      " 0.839 0.847 0.847 0.847 0.842 0.845 0.854 0.848 0.845 0.834 070 0.3085 hours\n",
      " 0.850 0.839 0.847 0.851 0.849 0.853 0.838 0.850 0.843 0.854 080 0.3533 hours\n",
      " 0.847 0.848 0.847 0.834 0.840 0.858 0.847 0.855 0.842 0.854 090 0.3979 hours\n",
      " 0.857 0.852 0.850 0.841 0.861 0.857 0.850 0.844 0.853 0.861 100 0.4497 hours\n",
      "\n",
      "0.4497 hours\n"
     ]
    }
   ],
   "source": [
    "for end in [6]:\n",
    "    print('end: {}'.format(end))\n",
    "    train(epochs=100, ntrain=10000, ntest=1000, steps=100, layers=[100, 100, 100], end=end, style=1)"
   ]
  },
  {
   "cell_type": "markdown",
   "metadata": {},
   "source": [
    "No improvement with the distance features.\n",
    "\n",
    "Now try angle features."
   ]
  },
  {
   "cell_type": "code",
   "execution_count": 11,
   "metadata": {},
   "outputs": [
    {
     "name": "stdout",
     "output_type": "stream",
     "text": [
      "end: 12\n",
      " 0.704 0.727 0.752 0.752 0.758 0.773 0.790 0.802 0.806 0.814 010 0.0489 hours\n",
      " 0.816 0.819 0.822 0.824 0.829 0.836 0.837 0.832 0.835 0.836 020 0.0976 hours\n",
      " 0.842 0.842 0.842 0.849 0.846 0.847 0.849 0.844 0.851 0.847 030 0.1436 hours\n",
      " 0.854 0.856 0.859 0.863 0.861 0.866 0.867 0.866 0.862 0.865 040 0.1949 hours\n",
      " 0.862 0.862 0.866 0.864 0.864 0.864 0.866 0.867 0.861 0.865 050 0.2444 hours\n",
      " 0.865 0.866 0.863 0.865 0.866 0.866 0.865 0.865 0.864 0.865 060 0.2913 hours\n",
      " 0.865 0.862 0.865 0.859 0.866 0.862 0.859 0.863 0.862 0.865 070 0.3410 hours\n",
      " 0.863 0.864 0.850 0.866 0.865 0.849 0.867 0.867 0.866 0.867 080 0.3874 hours\n",
      " 0.865 0.868 0.867 0.865 0.864 0.867 0.866 0.863 0.865 0.841 090 0.4383 hours\n",
      " 0.867 0.863 0.867 0.863 0.865 0.865 0.864 0.868 0.866 0.868 100 0.4870 hours\n",
      "\n",
      "0.4870 hours\n"
     ]
    }
   ],
   "source": [
    "for end in [12]:\n",
    "    print('end: {}'.format(end))\n",
    "    train(epochs=100, ntrain=10000, ntest=1000, steps=100, layers=[100, 100, 100], end=end, style=2)"
   ]
  },
  {
   "cell_type": "markdown",
   "metadata": {},
   "source": [
    "No improvement with these either.\n",
    "But I'll do a quick check to see if the shape of the net makes any difference."
   ]
  },
  {
   "cell_type": "code",
   "execution_count": 12,
   "metadata": {},
   "outputs": [
    {
     "name": "stdout",
     "output_type": "stream",
     "text": [
      "end: 12\n",
      " 0.690\n",
      "0.0050 hours\n"
     ]
    }
   ],
   "source": [
    "for end in [12]:\n",
    "    print('end: {}'.format(end))\n",
    "    train(epochs=1, ntrain=10000, ntest=1000, steps=100, layers=[300], end=end, style=2)"
   ]
  },
  {
   "cell_type": "markdown",
   "metadata": {},
   "source": [
    "Now I'll focus on the circumcircle center.\n",
    "I limit the additional features to only include the circumcircle center."
   ]
  },
  {
   "cell_type": "code",
   "execution_count": 13,
   "metadata": {},
   "outputs": [
    {
     "name": "stdout",
     "output_type": "stream",
     "text": [
      "end: 7\n",
      " 0.695 0.720 0.840 0.862 0.894 0.902 0.928 0.936 0.946 0.976 010 0.0459 hours\n",
      " 0.979 0.980 0.981 0.980 0.983 0.913 0.984 0.984 0.986 0.986 020 0.1679 hours\n",
      " 0.984 0.849 0.987 0.989 0.987 0.985 0.988 0.989 0.989 0.989 030 0.2121 hours\n",
      " 0.990\n",
      "0.2172 hours\n"
     ]
    }
   ],
   "source": [
    "for end in [7]:\n",
    "    print('end: {}'.format(end))\n",
    "    train(epochs=100, ntrain=10000, ntest=1000, steps=100, layers=[100, 100, 100], start=end-2, end=end, style=0)"
   ]
  },
  {
   "cell_type": "markdown",
   "metadata": {},
   "source": [
    "The converged quickly.\n",
    "It seems that the circumcircle center is the key missing piece of information\n",
    "that the net cannot determine on its own.\n",
    "\n",
    "Now I'll see how small a net is needed with this expanded feature set."
   ]
  },
  {
   "cell_type": "code",
   "execution_count": 14,
   "metadata": {},
   "outputs": [
    {
     "name": "stdout",
     "output_type": "stream",
     "text": [
      "end: 7\n",
      " 0.672 0.675 0.686 0.704 0.744 0.788 0.827 0.849 0.867 0.879 010 0.0371 hours\n",
      " 0.893 0.903 0.908 0.915 0.920 0.927 0.935 0.936 0.937 0.940 020 0.0736 hours\n",
      " 0.943 0.948 0.949 0.951 0.953 0.952 0.955 0.956 0.958 0.961 030 0.1091 hours\n",
      " 0.963 0.964 0.966 0.968 0.968 0.970 0.970 0.969 0.971 0.972 040 0.1444 hours\n",
      " 0.972 0.972 0.973 0.972 0.972 0.972 0.972 0.972 0.971 0.971 050 0.1773 hours\n",
      " 0.973 0.973 0.974 0.974 0.974 0.974 0.975 0.976 0.976 0.976 060 0.2085 hours\n",
      " 0.976 0.977 0.977 0.977 0.977 0.977 0.978 0.979 0.979 0.979 070 0.2396 hours\n",
      " 0.979 0.979 0.979 0.980 0.980 0.980 0.980 0.981 0.981 0.981 080 0.2716 hours\n",
      " 0.982 0.982 0.982 0.982 0.982 0.982 0.982 0.982 0.982 0.982 090 0.3064 hours\n",
      " 0.982 0.982 0.982 0.982 0.982 0.982 0.983 0.983 0.983 0.983 100 0.3376 hours\n",
      "\n",
      "0.3376 hours\n"
     ]
    }
   ],
   "source": [
    "for end in [7]:\n",
    "    print('end: {}'.format(end))\n",
    "    train(epochs=100, ntrain=10000, ntest=1000, steps=100, layers=[100], start=end-2, end=end, style=0)"
   ]
  },
  {
   "cell_type": "markdown",
   "metadata": {},
   "source": [
    "One lay works almost as well as 3 layers.\n",
    "\n",
    "But now wide does it need to be?"
   ]
  },
  {
   "cell_type": "code",
   "execution_count": 15,
   "metadata": {},
   "outputs": [
    {
     "name": "stdout",
     "output_type": "stream",
     "text": [
      "end: 7\n",
      " 0.667 0.672 0.673 0.686 0.701 0.725 0.768 0.829 0.861 0.886 010 0.0311 hours\n",
      " 0.905 0.919 0.922 0.925 0.930 0.931 0.932 0.935 0.939 0.941 020 0.0627 hours\n",
      " 0.947 0.950 0.950 0.955 0.956 0.958 0.961 0.962 0.964 0.963 030 0.0935 hours\n",
      " 0.963 0.965 0.965 0.965 0.965 0.966 0.966 0.965 0.967 0.967 040 0.1245 hours\n",
      " 0.968 0.968 0.970 0.971 0.971 0.973 0.972 0.972 0.973 0.974 050 0.1568 hours\n",
      " 0.974 0.974 0.974 0.974 0.975 0.975 0.975 0.975 0.975 0.975 060 0.1887 hours\n",
      " 0.974 0.974 0.974 0.975 0.975 0.975 0.975 0.975 0.975 0.976 070 0.2196 hours\n",
      " 0.976 0.975 0.975 0.975 0.975 0.975 0.975 0.975 0.975 0.976 080 0.2530 hours\n",
      " 0.976 0.976 0.976 0.976 0.976 0.976 0.976 0.976 0.976 0.976 090 0.2856 hours\n",
      " 0.976 0.976 0.976 0.976 0.976 0.975 0.975 0.974 0.975 0.975 100 0.3170 hours\n",
      "\n",
      "0.3170 hours\n"
     ]
    }
   ],
   "source": [
    "for end in [7]:\n",
    "    print('end: {}'.format(end))\n",
    "    train(epochs=100, ntrain=10000, ntest=1000, steps=100, layers=[50], start=end-2, end=end, style=0)"
   ]
  },
  {
   "cell_type": "markdown",
   "metadata": {},
   "source": [
    "50 nodes works well ... may be fewer are needed?"
   ]
  },
  {
   "cell_type": "code",
   "execution_count": 16,
   "metadata": {},
   "outputs": [
    {
     "name": "stdout",
     "output_type": "stream",
     "text": [
      "end: 7\n",
      " 0.674 0.677 0.678 0.683 0.695 0.707 0.728 0.749 0.767 0.778 010 0.0340 hours\n",
      " 0.795 0.826 0.841 0.855 0.869 0.876 0.882 0.898 0.904 0.904 020 0.0651 hours\n",
      " 0.913 0.913 0.916 0.919 0.921 0.919 0.924 0.927 0.928 0.931 030 0.0963 hours\n",
      " 0.933 0.936 0.936 0.939 0.940 0.940 0.940 0.942 0.943 0.945 040 0.1270 hours\n",
      " 0.948 0.947 0.948 0.949 0.949 0.955 0.955 0.958 0.960 0.961 050 0.1572 hours\n",
      " 0.962 0.962 0.964 0.965 0.966 0.967 0.969 0.970 0.970 0.970 060 0.1872 hours\n",
      " 0.971 0.972 0.972 0.972 0.972 0.973 0.973 0.973 0.973 0.973 070 0.2173 hours\n",
      " 0.973 0.974 0.974 0.974 0.974 0.974 0.974 0.974 0.974 0.976 080 0.2476 hours\n",
      " 0.977 0.976 0.975 0.975 0.975 0.975 0.975 0.975 0.975 0.975 090 0.2777 hours\n",
      " 0.976 0.975 0.974 0.974 0.974 0.974 0.975 0.974 0.974 0.973 100 0.3084 hours\n",
      "\n",
      "0.3084 hours\n"
     ]
    }
   ],
   "source": [
    "for end in [7]:\n",
    "    print('end: {}'.format(end))\n",
    "    train(epochs=100, ntrain=10000, ntest=1000, steps=100, layers=[25], start=end-2, end=end, style=0)"
   ]
  },
  {
   "cell_type": "code",
   "execution_count": 17,
   "metadata": {},
   "outputs": [
    {
     "name": "stdout",
     "output_type": "stream",
     "text": [
      "end: 7\n",
      " 0.662 0.663 0.665 0.666 0.675 0.698 0.735 0.781 0.821 0.848 010 0.0312 hours\n",
      " 0.871 0.881 0.893 0.901 0.906 0.917 0.922 0.927 0.936 0.940 020 0.0630 hours\n",
      " 0.943 0.947 0.948 0.952 0.958 0.958 0.961 0.958 0.963 0.964 030 0.0948 hours\n",
      " 0.964 0.964 0.964 0.965 0.966 0.963 0.968 0.967 0.967 0.967 040 0.1242 hours\n",
      " 0.968 0.968 0.968 0.969 0.969 0.969 0.969 0.968 0.970 0.970 050 0.1537 hours\n",
      " 0.971 0.971 0.971 0.972 0.972 0.972 0.973 0.973 0.973 0.972 060 0.1833 hours\n",
      " 0.973 0.973 0.973 0.974 0.974 0.975 0.975 0.975 0.975 0.975 070 14.7273 hours\n",
      " 0.976 0.977 0.977 0.977 0.978 0.978 0.979 0.979 0.979 0.979 080 14.7574 hours\n",
      " 0.979 0.979 0.979 0.979 0.979 0.979 0.979 0.979 0.979 0.979 090 14.7892 hours\n",
      " 0.980 0.980 0.979 0.979 0.979 0.979 0.980 0.980 0.980 0.980 100 14.8189 hours\n",
      "\n",
      "14.8189 hours\n"
     ]
    }
   ],
   "source": [
    "for end in [7]:\n",
    "    print('end: {}'.format(end))\n",
    "    train(epochs=100, ntrain=10000, ntest=1000, steps=100, layers=[15], start=end-2, end=end, style=0)"
   ]
  },
  {
   "cell_type": "code",
   "execution_count": 18,
   "metadata": {},
   "outputs": [
    {
     "name": "stdout",
     "output_type": "stream",
     "text": [
      "end: 7\n",
      " 0.665 0.664 0.665 0.668 0.677 0.697 0.719 0.735 0.758 0.775 010 0.0296 hours\n",
      " 0.783 0.789 0.797 0.803 0.818 0.826 0.834 0.836 0.841 0.845 020 0.0584 hours\n",
      " 0.855 0.856 0.864 0.870 0.873 0.876 0.882 0.885 0.894 0.893 030 0.0878 hours\n",
      " 0.900 0.906 0.906 0.907 0.908 0.907 0.913 0.914 0.914 0.916 040 0.1167 hours\n",
      " 0.916 0.921 0.919 0.923 0.922 0.925 0.925 0.928 0.934 0.936 050 0.1464 hours\n",
      " 0.937 0.939 0.940 0.943 0.945 0.945 0.944 0.945 0.946 0.947 060 0.1752 hours\n",
      " 0.947 0.949 0.951 0.953 0.955 0.954 0.954 0.953 0.954 0.954 070 0.2041 hours\n",
      " 0.954 0.955 0.958 0.958 0.959 0.959 0.958 0.958 0.958 0.958 080 0.2330 hours\n",
      " 0.958 0.957 0.958 0.958 0.958 0.958 0.958 0.958 0.959 0.959 090 0.2621 hours\n",
      " 0.959 0.959 0.959 0.959 0.959 0.959 0.959 0.959 0.960 0.960 100 0.2909 hours\n",
      "\n",
      "0.2909 hours\n"
     ]
    }
   ],
   "source": [
    "for end in [7]:\n",
    "    print('end: {}'.format(end))\n",
    "    train(epochs=100, ntrain=10000, ntest=1000, steps=100, layers=[10], start=end-2, end=end, style=0)"
   ]
  },
  {
   "cell_type": "markdown",
   "metadata": {},
   "source": [
    "# Final Remarks\n",
    "\n",
    "`qtest` is just one part of a complex algorithm for determining a Delaunay triangulation.\n",
    "To train a net to emulate `qtest`, I created a perfectly correct, noiseless, training data set (as well as a test data set). I created a relatively large net and found that accuracy was limited to ~83%.\n",
    "I tried a variety of additional features to improve the accuracy.\n",
    "As expected it worked very well with lots of intermediate features.\n",
    "But the accuracy dropped significantly when the circumcircle center was not included\n",
    "in the intermediate features.\n",
    "I did a number of simulations to confirm that the circle center was the critically\n",
    "missing piece of information.\n",
    "With the circle center, I was able to reduce the net size significantly.\n",
    "\n",
    "This implies that the net cannot determine the circle center on its own.\n",
    "It also suggests that other features, such as distances, can to modeled by the net.\n",
    "\n",
    "Further work could look at creating a net that takes 3 points as input and\n",
    "determine their circumcircle center.\n",
    "Or confirming that other features can be readily modeled by a net.\n"
   ]
  }
 ],
 "metadata": {
  "kernelspec": {
   "display_name": "Python 3",
   "language": "python",
   "name": "python3"
  },
  "language_info": {
   "codemirror_mode": {
    "name": "ipython",
    "version": 3
   },
   "file_extension": ".py",
   "mimetype": "text/x-python",
   "name": "python",
   "nbconvert_exporter": "python",
   "pygments_lexer": "ipython3",
   "version": "3.6.3"
  }
 },
 "nbformat": 4,
 "nbformat_minor": 2
}
