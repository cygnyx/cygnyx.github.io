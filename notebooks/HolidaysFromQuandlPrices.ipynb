{
 "cells": [
  {
   "cell_type": "markdown",
   "metadata": {},
   "source": [
    "# Holidays From Quandl Prices\n",
    "\n",
    "Use the dates in a quadl bulk price download to determine market holidays.\n",
    "Do not record Saturdays or Sundays.\n",
    "Make sure that 11 Sep 2001 is handled properly."
   ]
  },
  {
   "cell_type": "markdown",
   "metadata": {},
   "source": [
    "## Preliminaries\n",
    "\n",
    "import packages"
   ]
  },
  {
   "cell_type": "code",
   "execution_count": 1,
   "metadata": {
    "collapsed": true
   },
   "outputs": [],
   "source": [
    "import pandas as pd\n",
    "import zipfile\n",
    "from datetime import datetime\n",
    "import matplotlib.pyplot as plt\n",
    "from json import dump"
   ]
  },
  {
   "cell_type": "markdown",
   "metadata": {},
   "source": [
    "Configuration:\n",
    "- bulk price file name\n",
    "- minimum number of assets required to be considered a tradeday.\n",
    "- output file name"
   ]
  },
  {
   "cell_type": "code",
   "execution_count": 2,
   "metadata": {
    "collapsed": true
   },
   "outputs": [],
   "source": [
    "prc_src = '2018-02-03T02h23m27.zip'\n",
    "prc_min_assets = 10\n",
    "output_filename = 'holiday.json'"
   ]
  },
  {
   "cell_type": "markdown",
   "metadata": {},
   "source": [
    "## Load dates\n",
    "\n",
    "Load only the date column in the zip file and count occurances by date."
   ]
  },
  {
   "cell_type": "code",
   "execution_count": 3,
   "metadata": {
    "collapsed": false
   },
   "outputs": [],
   "source": [
    "zf = zipfile.ZipFile(prc_src)\n",
    "df = pd.read_csv(zf.open(list(zf.infolist())[0]), usecols=['date'])\n",
    "tradedaycount = df.date.value_counts()"
   ]
  },
  {
   "cell_type": "markdown",
   "metadata": {},
   "source": [
    "Check a few days to make sure data are reasonable."
   ]
  },
  {
   "cell_type": "code",
   "execution_count": 4,
   "metadata": {
    "collapsed": false
   },
   "outputs": [
    {
     "name": "stdout",
     "output_type": "stream",
     "text": [
      "Count for 2001-09-10: 1927\n",
      "Count for 2001-09-11: 2\n",
      "Count for 2001-09-12: 3\n",
      "Count for 2001-09-13: 1\n",
      "Count for 2001-09-14: 1\n",
      "Count for 2001-09-17: 1927\n"
     ]
    }
   ],
   "source": [
    "for day in ['2001-09-10', '2001-09-11', '2001-09-12', '2001-09-13', '2001-09-14', '2001-09-17']:\n",
    "    print('Count for {0}: {1}'.format(day, tradedaycount[day]))"
   ]
  },
  {
   "cell_type": "markdown",
   "metadata": {},
   "source": [
    "Threshold the asset count to select the tradedays."
   ]
  },
  {
   "cell_type": "code",
   "execution_count": 5,
   "metadata": {
    "collapsed": false
   },
   "outputs": [],
   "source": [
    "td = tradedaycount.loc[tradedaycount > prc_min_assets]"
   ]
  },
  {
   "cell_type": "markdown",
   "metadata": {},
   "source": [
    "Check a few days to make sure data are reasonable."
   ]
  },
  {
   "cell_type": "code",
   "execution_count": 6,
   "metadata": {
    "collapsed": false
   },
   "outputs": [
    {
     "name": "stdout",
     "output_type": "stream",
     "text": [
      "2001-09-10 is a tradeday\n",
      "2001-09-11 isn't a tradeday\n",
      "2001-09-12 isn't a tradeday\n",
      "2001-09-13 isn't a tradeday\n",
      "2001-09-14 isn't a tradeday\n",
      "2001-09-17 is a tradeday\n",
      "Tradeday date range is: [1970-01-02, 2018-02-02]\n"
     ]
    }
   ],
   "source": [
    "for day in ['2001-09-10', '2001-09-11', '2001-09-12', '2001-09-13', '2001-09-14', '2001-09-17']:\n",
    "    print('{0} {1} a tradeday'.format(day, \"is\" if day in td else \"isn't\"))\n",
    "print('Tradeday date range is: [{0}, {1}]'.format(td.index.min(), td.index.max()))"
   ]
  },
  {
   "cell_type": "markdown",
   "metadata": {},
   "source": [
    "Plot the histogram of the counts"
   ]
  },
  {
   "cell_type": "code",
   "execution_count": 7,
   "metadata": {
    "collapsed": false,
    "scrolled": true
   },
   "outputs": [
    {
     "data": {
      "image/png": "[encoded data removed]",
      "text/plain": [
       "<matplotlib.figure.Figure at 0x1087d3ac8>"
      ]
     },
     "metadata": {},
     "output_type": "display_data"
    }
   ],
   "source": [
    "fig = plt.figure()\n",
    "ax = fig.gca()\n",
    "plt.hist(td)\n",
    "plt.show()"
   ]
  },
  {
   "cell_type": "markdown",
   "metadata": {},
   "source": [
    "## Calculate holidays\n",
    "\n",
    "Holidays are determined only between the date range given in the bulk price feed.\n",
    "For all the days in range, exclude the weekends and exclude the trade days."
   ]
  },
  {
   "cell_type": "code",
   "execution_count": 8,
   "metadata": {
    "collapsed": false
   },
   "outputs": [],
   "source": [
    "def holidays(td):\n",
    "    h = []\n",
    "    for dt in pd.date_range(td.index.min(), td.index.max()):\n",
    "        day = dt.date()\n",
    "        wd = day.weekday()\n",
    "        if wd > 4:\n",
    "            continue\n",
    "        d = datetime.strftime(day,'%Y-%m-%d')\n",
    "        if d in td:\n",
    "            continue;\n",
    "        h.append(int(datetime.strftime(day,'%Y%m%d')))\n",
    "    return h\n",
    "h = holidays(td)"
   ]
  },
  {
   "cell_type": "markdown",
   "metadata": {},
   "source": [
    "## Output results\n",
    "\n",
    "The results are stored in a json file in YYYYMMDD int format."
   ]
  },
  {
   "cell_type": "code",
   "execution_count": 9,
   "metadata": {
    "collapsed": false,
    "scrolled": true
   },
   "outputs": [],
   "source": [
    "with open(output_filename, \"w\") as outfile:\n",
    "    dump({\n",
    "        \"holidays\": h\n",
    "    }, outfile, sort_keys=True, indent=4, ensure_ascii=False)"
   ]
  }
 ],
 "metadata": {
  "kernelspec": {
   "display_name": "Python 3",
   "language": "python",
   "name": "python3"
  },
  "language_info": {
   "codemirror_mode": {
    "name": "ipython",
    "version": 3
   },
   "file_extension": ".py",
   "mimetype": "text/x-python",
   "name": "python",
   "nbconvert_exporter": "python",
   "pygments_lexer": "ipython3",
   "version": "3.6.3"
  }
 },
 "nbformat": 4,
 "nbformat_minor": 2
}
