{
 "cells": [
  {
   "cell_type": "markdown",
   "metadata": {},
   "source": [
    "# Quickselect\n",
    "\n",
    "Quickselect is similar to quicksort, but doesn't fully sort the data.\n",
    "This is more efficient when it isn't necessary to sort the data to get a result.\n",
    "For example, in order to calculate the median, it is only necessary to partition\n",
    "data such that half the values are below the median and the other half is above it,\n",
    "but these halves don't need to be fully sorted.\n",
    "This notebook compares the [Floyd–Rivest](https://en.wikipedia.org/wiki/Floyd–Rivest_algorithm),\n",
    "the [Hoare](https://en.wikipedia.org/wiki/Quickselect), and the python standard sort algorithm.\n",
    "Note that all these algorithm modify the data in place.\n",
    "\n",
    "My orginal interest in these `select` algorithms was due to sorting of points in the x-y plane\n",
    "for use in triangulation.\n",
    "One recursive Delaunay triangulation algorithm sorts the points by x and then y.\n",
    "During construction this leads to long thin vertical triangles that are unlikely to be in the\n",
    "final triangulation.\n",
    "Perhaps a different sorting order could generate better initial triangles that could improve\n",
    "the performance of the construction.\n",
    "The recursive step divides the points into 2 halves, solves the sub-problems, and then merges the\n",
    "results.\n",
    "An improvement might be to divide the points along alternating axes.\n",
    "In this case, it isn't necessary to fully sort the points.\n",
    "\n",
    "Each algorithm implements the same interface and can be used to select the `kth` element in the data.\n",
    "By default they select the median of all the data.\n",
    "\n",
    "The Floyd-Rivest algorithm works quite well."
   ]
  },
  {
   "cell_type": "markdown",
   "metadata": {},
   "source": [
    "## Preliminaries\n",
    "\n",
    "Import a few tools that are not significant to the algorithms."
   ]
  },
  {
   "cell_type": "code",
   "execution_count": 1,
   "metadata": {},
   "outputs": [],
   "source": [
    "from random import randint, random\n",
    "from math import log, exp, sqrt"
   ]
  },
  {
   "cell_type": "markdown",
   "metadata": {},
   "source": [
    "## Floyd-Rivest\n",
    "\n",
    "Reported to be $O(n)$, it includes two meta-parameters: threshold and scale.\n",
    "The default values of these parameters are reported to be optimal for performance.\n",
    "The algorithm is modestly recursive. For large data sizes it selects a subset of\n",
    "data to operate on. On return from the recursion, it continues the partitioning\n",
    "of the data using the improved subset.\n",
    "Note that this algorithm does not have a `random` selection element."
   ]
  },
  {
   "cell_type": "code",
   "execution_count": 2,
   "metadata": {},
   "outputs": [],
   "source": [
    "def frselect(a, left=None, right=None, index=None, threshold=600, scale=0.5):\n",
    "\n",
    "    l = 0 if left == None else left\n",
    "    r = len(a) - 1 if right == None else right\n",
    "    k = r // 2 if index == None else index\n",
    "    \n",
    "    def select(a, l, r, k):\n",
    "        while r > l:\n",
    "            if r - l > threshold:\n",
    "                n = r - l + 1\n",
    "                i = k - l + 1\n",
    "                z = log(n)\n",
    "                s = scale * exp(2 * z / 3)\n",
    "                sd = scale * sqrt(z * s * (n - s) / n)\n",
    "                if i < n / 2:\n",
    "                    sd = -sd\n",
    "                nl = int(k - i * s/n + sd)\n",
    "                if nl < l:\n",
    "                    nl = l\n",
    "                nr = int(k + (n - i) * s/n + sd)\n",
    "                if nr > r:\n",
    "                    nr = r\n",
    "                select(a, nl, nr, k)\n",
    "\n",
    "            t = a[k] \n",
    "            i = l\n",
    "            j = r\n",
    "            a[l], a[k] = a[k], a[l]\n",
    "            if a[r] > t:\n",
    "                a[r], a[l] = a[l], a[r]\n",
    "            while i < j:\n",
    "                a[i], a[j] = a[j], a[i]\n",
    "                i = i + 1\n",
    "                j = j - 1\n",
    "                while a[i] < t:\n",
    "                    i = i + 1\n",
    "                while a[j] > t:\n",
    "                    j = j - 1\n",
    "            if a[l] == t:\n",
    "                a[l], a[j] = a[j], a[l]\n",
    "            else:\n",
    "                j = j + 1\n",
    "                a[j], a[r] = a[r], a[j]\n",
    "\n",
    "            if j <= k:\n",
    "                l = j + 1\n",
    "            if k <= j:\n",
    "                r = j - 1\n",
    "        return\n",
    "\n",
    "    select(a, l, r, k)"
   ]
  },
  {
   "cell_type": "markdown",
   "metadata": {},
   "source": [
    "Check the results for correctness."
   ]
  },
  {
   "cell_type": "code",
   "execution_count": 3,
   "metadata": {},
   "outputs": [
    {
     "name": "stdout",
     "output_type": "stream",
     "text": [
      "finished test\n"
     ]
    }
   ],
   "source": [
    "for _ in range(100):\n",
    "    a = [random() for _ in range(10001)]\n",
    "    k = len(a) // 2\n",
    "    frselect(a)\n",
    "    median = a[k]\n",
    "    for i in range(k):\n",
    "        if a[i] > median:\n",
    "            raise AssertionError('bad low partition')\n",
    "    for i in range(k, len(a)):\n",
    "        if a[i] < median:\n",
    "            raise AssertionError('bad high partition')\n",
    "print('finished test')"
   ]
  },
  {
   "cell_type": "markdown",
   "metadata": {},
   "source": [
    "# Hoare\n",
    "\n",
    "Reported to be $O(n)$ with a worst case of $O(n^2)$.\n",
    "This algorithm is not recursive, but includes a `random` component\n",
    "in selecting the next possible pivot point."
   ]
  },
  {
   "cell_type": "code",
   "execution_count": 4,
   "metadata": {},
   "outputs": [],
   "source": [
    "def hselect(a, left=None, right=None, index=None):\n",
    "\n",
    "    l = 0 if left == None else left\n",
    "    r = len(a) - 1 if right == None else right\n",
    "    k = r // 2 if index == None else index\n",
    "    \n",
    "    while r > l:\n",
    "        p = randint(l, r)\n",
    "        v = a[p]\n",
    "        a[p], a[r] = a[r], a[p]\n",
    "        j = l\n",
    "        for i in range(l, r):\n",
    "            if a[i] < v:\n",
    "                a[j], a[i] = a[i], a[j]\n",
    "                j += 1\n",
    "        a[r], a[j] = a[j], a[r]\n",
    "        if k < j:\n",
    "            r = j - 1\n",
    "        elif k > j:\n",
    "            l = j + 1\n",
    "        else:\n",
    "            return"
   ]
  },
  {
   "cell_type": "markdown",
   "metadata": {},
   "source": [
    "Check the results for correctness."
   ]
  },
  {
   "cell_type": "code",
   "execution_count": 5,
   "metadata": {},
   "outputs": [
    {
     "name": "stdout",
     "output_type": "stream",
     "text": [
      "finished test\n"
     ]
    }
   ],
   "source": [
    "for _ in range(100):\n",
    "    a = [random() for _ in range(10001)]\n",
    "    k = len(a) // 2\n",
    "    hselect(a)\n",
    "    median = a[k]\n",
    "    for i in range(k):\n",
    "        if a[i] > median:\n",
    "            raise AssertionError('bad low partition')\n",
    "    for i in range(k, len(a)):\n",
    "        if a[i] < median:\n",
    "            raise AssertionError('bad high partition')\n",
    "print('finished test')"
   ]
  },
  {
   "cell_type": "markdown",
   "metadata": {},
   "source": [
    "# Python sort\n",
    "\n",
    "A simple implementation.\n",
    "Reported to be $O(n\\ log\\ n)$."
   ]
  },
  {
   "cell_type": "code",
   "execution_count": 6,
   "metadata": {},
   "outputs": [],
   "source": [
    "def sselect(a, left=None, right=None, k=None):\n",
    "    a.sort()\n",
    "    return"
   ]
  },
  {
   "cell_type": "markdown",
   "metadata": {},
   "source": [
    "Check the results for correctness."
   ]
  },
  {
   "cell_type": "code",
   "execution_count": 7,
   "metadata": {},
   "outputs": [
    {
     "name": "stdout",
     "output_type": "stream",
     "text": [
      "finished test\n"
     ]
    }
   ],
   "source": [
    "for _ in range(100):\n",
    "    a = [random() for _ in range(10001)]\n",
    "    k = len(a) // 2\n",
    "    sselect(a)\n",
    "    median = a[k]\n",
    "    for i in range(k):\n",
    "        if a[i] > median:\n",
    "            raise AssertionError('bad low partition')\n",
    "    for i in range(k, len(a)):\n",
    "        if a[i] < median:\n",
    "            raise AssertionError('bad high partition')\n",
    "print('finished test')"
   ]
  },
  {
   "cell_type": "markdown",
   "metadata": {},
   "source": [
    "# Results\n",
    "\n",
    "Import timing and plotting tools.\n",
    "Run each algorithm on a large array of varying lengths.\n",
    "The times for each run are plotted and a line is drawn to the largest length."
   ]
  },
  {
   "cell_type": "code",
   "execution_count": 8,
   "metadata": {},
   "outputs": [],
   "source": [
    "from time import time\n",
    "import matplotlib.pyplot as plt"
   ]
  },
  {
   "cell_type": "code",
   "execution_count": 9,
   "metadata": {},
   "outputs": [
    {
     "data": {
      "image/png": "[encoded data removed]",
      "text/plain": [
       "<matplotlib.figure.Figure at 0x111951c88>"
      ]
     },
     "metadata": {},
     "output_type": "display_data"
    }
   ],
   "source": [
    "r = {}\n",
    "funcs = {'frselect': frselect, 'hselect': hselect, 'sselect': sselect}\n",
    "for select in funcs:\n",
    "    d = {}\n",
    "    for rng in range(1, 25):\n",
    "        size = 100000 * rng\n",
    "        a = [random() for _ in range(size)]\n",
    "        stime = time()\n",
    "        funcs[select](a)\n",
    "        d[rng] = int((time() - stime) * 100) / 100\n",
    "    r[select] = d\n",
    "\n",
    "def plot(r, fsz=7):\n",
    "    fig = plt.figure(figsize=[fsz, fsz])\n",
    "    ax = fig.gca()\n",
    "    ax.set_title('speed')\n",
    "    plt.xlabel('length x 100000')\n",
    "    plt.ylabel('seconds')\n",
    "    cs = ['r', 'g', 'b', 'k']\n",
    "    i = 0\n",
    "    for select in r:\n",
    "        timing = r[select]\n",
    "        tm = max([k for k in timing])\n",
    "        ax.scatter([k for k in timing], [timing[k] for k in timing], c=cs[i], label=select)\n",
    "        plt.plot([0, tm], [0, timing[tm]], c=cs[i]) \n",
    "        i += 1\n",
    "    legend = ax.legend(loc='upper left')\n",
    "    plt.show()\n",
    "\n",
    "plot(r)"
   ]
  },
  {
   "cell_type": "markdown",
   "metadata": {},
   "source": [
    "# Remarks\n",
    "\n",
    "For these larger data sets the python sort algorithm is the slowest.\n",
    "The shape of the timing points suggest a worse than $O(n)$.\n",
    "When operating an integer array, this algorithm worked considerably faster.\n",
    "I think it is likely that this it implemented in `C` code.\n",
    "The Hoare algorithm performs better but is considerably less consistent\n",
    "is could be $O(n)$.\n",
    "The Floyd-Rivest algorithm has the best performance, looks very\n",
    "stable and appears to be $O(n)$ in practice."
   ]
  }
 ],
 "metadata": {
  "kernelspec": {
   "display_name": "Python 3",
   "language": "python",
   "name": "python3"
  },
  "language_info": {
   "codemirror_mode": {
    "name": "ipython",
    "version": 3
   },
   "file_extension": ".py",
   "mimetype": "text/x-python",
   "name": "python",
   "nbconvert_exporter": "python",
   "pygments_lexer": "ipython3",
   "version": "3.6.3"
  }
 },
 "nbformat": 4,
 "nbformat_minor": 2
}
