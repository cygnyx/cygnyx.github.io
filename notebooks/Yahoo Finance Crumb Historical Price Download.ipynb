{
 "cells": [
  {
   "cell_type": "code",
   "execution_count": 1,
   "metadata": {
    "collapsed": true
   },
   "outputs": [],
   "source": [
    "import requests\n",
    "import re\n",
    "import time\n",
    "import io\n",
    "\n",
    "import pandas as pd\n",
    "import datetime as dt\n",
    "#import numpy as np\n",
    "#import matplotlib.pyplot as plt\n",
    "%matplotlib inline"
   ]
  },
  {
   "cell_type": "code",
   "execution_count": 2,
   "metadata": {
    "collapsed": true
   },
   "outputs": [],
   "source": [
    "tradedays = 100\n",
    "ticker = 'AAPL'\n",
    "baseurl = 'https://query1.finance.yahoo.com/v7/finance/download'"
   ]
  },
  {
   "cell_type": "code",
   "execution_count": 3,
   "metadata": {
    "collapsed": false
   },
   "outputs": [
    {
     "name": "stdout",
     "output_type": "stream",
     "text": [
      "URL = https://finance.yahoo.com/quote/AAPL/history\n",
      "Cookie = eh6onsdcnfehp&b=3&s=3a\n",
      "Crumb = AiFCXoPIOcq\n"
     ]
    }
   ],
   "source": [
    "url = 'https://finance.yahoo.com/quote/{0}/history'.format(ticker)\n",
    "print 'URL =', url\n",
    "r = requests.get(url)  # download page\n",
    "cookie = r.cookies['B'] # the cookie we're looking for is named 'B'\n",
    "print 'Cookie =', cookie\n",
    "\n",
    "pattern = re.compile('.*\"CrumbStore\":\\{\"crumb\":\"(?P<crumb>[^\"]+)\"\\}')\n",
    "for line in r.text.splitlines():\n",
    "    m = pattern.match(line)\n",
    "    if m is not None:\n",
    "        crumb0 = m.groupdict()['crumb']\n",
    "        crumb = crumb0.decode('unicode-escape')\n",
    "        if crumb0 != crumb:\n",
    "            print 'Crumb0 =', crumb0\n",
    "        break\n",
    "\n",
    "print'Crumb =', crumb"
   ]
  },
  {
   "cell_type": "code",
   "execution_count": 4,
   "metadata": {
    "collapsed": false
   },
   "outputs": [
    {
     "name": "stdout",
     "output_type": "stream",
     "text": [
      "Start Time =  1485923881\n",
      "End Time =  1501043881\n"
     ]
    }
   ],
   "source": [
    "enddt = dt.datetime.utcnow()\n",
    "enddt = int(time.mktime(enddt.timetuple()))\n",
    "tradedays = 100\n",
    "startdt = int(enddt - tradedays * 24 * 60 * 60 * 7 / 4)\n",
    "print 'Start Time = ', startdt\n",
    "print 'End Time = ', enddt\n"
   ]
  },
  {
   "cell_type": "code",
   "execution_count": 5,
   "metadata": {
    "collapsed": false
   },
   "outputs": [
    {
     "name": "stdout",
     "output_type": "stream",
     "text": [
      "URL =  https://query1.finance.yahoo.com/v7/finance/download/AAPL?period1=1485923881&period2=1501043881&interval=1d&events=history&crumb=AiFCXoPIOcq\n"
     ]
    }
   ],
   "source": [
    "data = (baseurl, ticker, startdt, enddt, crumb)\n",
    "\n",
    "url = \"{0}/{1}?period1={2}&period2={3}&interval=1d&events=history&crumb={4}\".format(baseurl, ticker, startdt, enddt, crumb)\n",
    "print 'URL = ', url\n",
    "df = pd.read_csv(io.StringIO(requests.get(url, cookies={'B':cookie}).text),index_col=0)"
   ]
  },
  {
   "cell_type": "code",
   "execution_count": 6,
   "metadata": {
    "collapsed": false
   },
   "outputs": [
    {
     "data": {
      "text/html": [
       "<div>\n",
       "<style>\n",
       "    .dataframe thead tr:only-child th {\n",
       "        text-align: right;\n",
       "    }\n",
       "\n",
       "    .dataframe thead th {\n",
       "        text-align: left;\n",
       "    }\n",
       "\n",
       "    .dataframe tbody tr th {\n",
       "        vertical-align: top;\n",
       "    }\n",
       "</style>\n",
       "<table border=\"1\" class=\"dataframe\">\n",
       "  <thead>\n",
       "    <tr style=\"text-align: right;\">\n",
       "      <th></th>\n",
       "      <th>Open</th>\n",
       "      <th>High</th>\n",
       "      <th>Low</th>\n",
       "      <th>Close</th>\n",
       "      <th>Adj Close</th>\n",
       "      <th>Volume</th>\n",
       "    </tr>\n",
       "    <tr>\n",
       "      <th>Date</th>\n",
       "      <th></th>\n",
       "      <th></th>\n",
       "      <th></th>\n",
       "      <th></th>\n",
       "      <th></th>\n",
       "      <th></th>\n",
       "    </tr>\n",
       "  </thead>\n",
       "  <tbody>\n",
       "    <tr>\n",
       "      <th>2017-02-01</th>\n",
       "      <td>127.029999</td>\n",
       "      <td>130.490005</td>\n",
       "      <td>127.010002</td>\n",
       "      <td>128.750000</td>\n",
       "      <td>127.667236</td>\n",
       "      <td>111985000</td>\n",
       "    </tr>\n",
       "    <tr>\n",
       "      <th>2017-02-02</th>\n",
       "      <td>127.980003</td>\n",
       "      <td>129.389999</td>\n",
       "      <td>127.779999</td>\n",
       "      <td>128.529999</td>\n",
       "      <td>127.449089</td>\n",
       "      <td>33710400</td>\n",
       "    </tr>\n",
       "    <tr>\n",
       "      <th>2017-02-03</th>\n",
       "      <td>128.309998</td>\n",
       "      <td>129.190002</td>\n",
       "      <td>128.160004</td>\n",
       "      <td>129.080002</td>\n",
       "      <td>127.994469</td>\n",
       "      <td>24507300</td>\n",
       "    </tr>\n",
       "    <tr>\n",
       "      <th>2017-02-06</th>\n",
       "      <td>129.130005</td>\n",
       "      <td>130.500000</td>\n",
       "      <td>128.899994</td>\n",
       "      <td>130.289993</td>\n",
       "      <td>129.194290</td>\n",
       "      <td>26845900</td>\n",
       "    </tr>\n",
       "    <tr>\n",
       "      <th>2017-02-07</th>\n",
       "      <td>130.539993</td>\n",
       "      <td>132.089996</td>\n",
       "      <td>130.449997</td>\n",
       "      <td>131.529999</td>\n",
       "      <td>130.423859</td>\n",
       "      <td>38183800</td>\n",
       "    </tr>\n",
       "  </tbody>\n",
       "</table>\n",
       "</div>"
      ],
      "text/plain": [
       "                  Open        High         Low       Close   Adj Close  \\\n",
       "Date                                                                     \n",
       "2017-02-01  127.029999  130.490005  127.010002  128.750000  127.667236   \n",
       "2017-02-02  127.980003  129.389999  127.779999  128.529999  127.449089   \n",
       "2017-02-03  128.309998  129.190002  128.160004  129.080002  127.994469   \n",
       "2017-02-06  129.130005  130.500000  128.899994  130.289993  129.194290   \n",
       "2017-02-07  130.539993  132.089996  130.449997  131.529999  130.423859   \n",
       "\n",
       "               Volume  \n",
       "Date                   \n",
       "2017-02-01  111985000  \n",
       "2017-02-02   33710400  \n",
       "2017-02-03   24507300  \n",
       "2017-02-06   26845900  \n",
       "2017-02-07   38183800  "
      ]
     },
     "execution_count": 6,
     "metadata": {},
     "output_type": "execute_result"
    }
   ],
   "source": [
    "df.head()"
   ]
  },
  {
   "cell_type": "code",
   "execution_count": 7,
   "metadata": {
    "collapsed": false
   },
   "outputs": [
    {
     "data": {
      "text/html": [
       "<div>\n",
       "<style>\n",
       "    .dataframe thead tr:only-child th {\n",
       "        text-align: right;\n",
       "    }\n",
       "\n",
       "    .dataframe thead th {\n",
       "        text-align: left;\n",
       "    }\n",
       "\n",
       "    .dataframe tbody tr th {\n",
       "        vertical-align: top;\n",
       "    }\n",
       "</style>\n",
       "<table border=\"1\" class=\"dataframe\">\n",
       "  <thead>\n",
       "    <tr style=\"text-align: right;\">\n",
       "      <th></th>\n",
       "      <th>Open</th>\n",
       "      <th>High</th>\n",
       "      <th>Low</th>\n",
       "      <th>Close</th>\n",
       "      <th>Adj Close</th>\n",
       "      <th>Volume</th>\n",
       "    </tr>\n",
       "    <tr>\n",
       "      <th>Date</th>\n",
       "      <th></th>\n",
       "      <th></th>\n",
       "      <th></th>\n",
       "      <th></th>\n",
       "      <th></th>\n",
       "      <th></th>\n",
       "    </tr>\n",
       "  </thead>\n",
       "  <tbody>\n",
       "    <tr>\n",
       "      <th>2017-07-19</th>\n",
       "      <td>150.479996</td>\n",
       "      <td>151.419998</td>\n",
       "      <td>149.949997</td>\n",
       "      <td>151.020004</td>\n",
       "      <td>151.020004</td>\n",
       "      <td>20923000</td>\n",
       "    </tr>\n",
       "    <tr>\n",
       "      <th>2017-07-20</th>\n",
       "      <td>151.500000</td>\n",
       "      <td>151.740005</td>\n",
       "      <td>150.190002</td>\n",
       "      <td>150.339996</td>\n",
       "      <td>150.339996</td>\n",
       "      <td>17243700</td>\n",
       "    </tr>\n",
       "    <tr>\n",
       "      <th>2017-07-21</th>\n",
       "      <td>149.990005</td>\n",
       "      <td>150.440002</td>\n",
       "      <td>148.880005</td>\n",
       "      <td>150.270004</td>\n",
       "      <td>150.270004</td>\n",
       "      <td>26252600</td>\n",
       "    </tr>\n",
       "    <tr>\n",
       "      <th>2017-07-24</th>\n",
       "      <td>150.580002</td>\n",
       "      <td>152.440002</td>\n",
       "      <td>149.899994</td>\n",
       "      <td>152.089996</td>\n",
       "      <td>152.089996</td>\n",
       "      <td>21304700</td>\n",
       "    </tr>\n",
       "    <tr>\n",
       "      <th>2017-07-25</th>\n",
       "      <td>151.800003</td>\n",
       "      <td>153.839996</td>\n",
       "      <td>152.240005</td>\n",
       "      <td>152.740005</td>\n",
       "      <td>152.740005</td>\n",
       "      <td>17040810</td>\n",
       "    </tr>\n",
       "  </tbody>\n",
       "</table>\n",
       "</div>"
      ],
      "text/plain": [
       "                  Open        High         Low       Close   Adj Close  \\\n",
       "Date                                                                     \n",
       "2017-07-19  150.479996  151.419998  149.949997  151.020004  151.020004   \n",
       "2017-07-20  151.500000  151.740005  150.190002  150.339996  150.339996   \n",
       "2017-07-21  149.990005  150.440002  148.880005  150.270004  150.270004   \n",
       "2017-07-24  150.580002  152.440002  149.899994  152.089996  152.089996   \n",
       "2017-07-25  151.800003  153.839996  152.240005  152.740005  152.740005   \n",
       "\n",
       "              Volume  \n",
       "Date                  \n",
       "2017-07-19  20923000  \n",
       "2017-07-20  17243700  \n",
       "2017-07-21  26252600  \n",
       "2017-07-24  21304700  \n",
       "2017-07-25  17040810  "
      ]
     },
     "execution_count": 7,
     "metadata": {},
     "output_type": "execute_result"
    }
   ],
   "source": [
    "df.tail()"
   ]
  },
  {
   "cell_type": "code",
   "execution_count": 8,
   "metadata": {
    "collapsed": false
   },
   "outputs": [
    {
     "data": {
      "image/png": "[encoded data removed]",
      "text/plain": [
       "<matplotlib.figure.Figure at 0x121800710>"
      ]
     },
     "metadata": {},
     "output_type": "display_data"
    }
   ],
   "source": [
    "df['Adj Close'].plot(logy=True);"
   ]
  }
 ],
 "metadata": {
  "kernelspec": {
   "display_name": "Python 2",
   "language": "python",
   "name": "python2"
  },
  "language_info": {
   "codemirror_mode": {
    "name": "ipython",
    "version": 2
   },
   "file_extension": ".py",
   "mimetype": "text/x-python",
   "name": "python",
   "nbconvert_exporter": "python",
   "pygments_lexer": "ipython2",
   "version": "2.7.13"
  }
 },
 "nbformat": 4,
 "nbformat_minor": 2
}
